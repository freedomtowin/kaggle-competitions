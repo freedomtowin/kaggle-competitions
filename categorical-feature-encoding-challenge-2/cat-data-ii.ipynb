{
 "cells": [
  {
   "cell_type": "code",
   "execution_count": 1,
   "metadata": {},
   "outputs": [],
   "source": [
    "import numpy as np\n",
    "import pandas as pd\n",
    "import matplotlib.pyplot as plt\n",
    "from numba import jit,njit, prange, types"
   ]
  },
  {
   "cell_type": "code",
   "execution_count": 2,
   "metadata": {},
   "outputs": [
    {
     "data": {
      "text/plain": [
       "(600000, 25)"
      ]
     },
     "execution_count": 2,
     "metadata": {},
     "output_type": "execute_result"
    }
   ],
   "source": [
    "train = pd.read_csv('train.csv')\n",
    "train.shape "
   ]
  },
  {
   "cell_type": "code",
   "execution_count": 3,
   "metadata": {},
   "outputs": [
    {
     "data": {
      "text/plain": [
       "Index(['id', 'bin_0', 'bin_1', 'bin_2', 'bin_3', 'bin_4', 'nom_0', 'nom_1',\n",
       "       'nom_2', 'nom_3', 'nom_4', 'nom_5', 'nom_6', 'nom_7', 'nom_8', 'nom_9',\n",
       "       'ord_0', 'ord_1', 'ord_2', 'ord_3', 'ord_4', 'ord_5', 'day', 'month',\n",
       "       'target'],\n",
       "      dtype='object')"
      ]
     },
     "execution_count": 3,
     "metadata": {},
     "output_type": "execute_result"
    }
   ],
   "source": [
    "train.columns"
   ]
  },
  {
   "cell_type": "code",
   "execution_count": 4,
   "metadata": {},
   "outputs": [
    {
     "data": {
      "text/plain": [
       "(400000, 24)"
      ]
     },
     "execution_count": 4,
     "metadata": {},
     "output_type": "execute_result"
    }
   ],
   "source": [
    "test = pd.read_csv('test.csv')\n",
    "test.shape "
   ]
  },
  {
   "cell_type": "code",
   "execution_count": 5,
   "metadata": {},
   "outputs": [
    {
     "data": {
      "text/plain": [
       "id        600000\n",
       "bin_0          3\n",
       "bin_1          3\n",
       "bin_2          3\n",
       "bin_3          3\n",
       "bin_4          3\n",
       "nom_0          4\n",
       "nom_1          7\n",
       "nom_2          7\n",
       "nom_3          7\n",
       "nom_4          5\n",
       "nom_5       1221\n",
       "nom_6       1520\n",
       "nom_7        223\n",
       "nom_8        223\n",
       "nom_9       2219\n",
       "ord_0          4\n",
       "ord_1          6\n",
       "ord_2          7\n",
       "ord_3         16\n",
       "ord_4         27\n",
       "ord_5        191\n",
       "day            8\n",
       "month         13\n",
       "target         2\n",
       "dtype: int64"
      ]
     },
     "execution_count": 5,
     "metadata": {},
     "output_type": "execute_result"
    }
   ],
   "source": [
    "train.nunique(dropna=False)"
   ]
  },
  {
   "cell_type": "code",
   "execution_count": 6,
   "metadata": {},
   "outputs": [
    {
     "data": {
      "text/plain": [
       "id       400000\n",
       "bin_0         3\n",
       "bin_1         3\n",
       "bin_2         3\n",
       "bin_3         3\n",
       "bin_4         3\n",
       "nom_0         4\n",
       "nom_1         7\n",
       "nom_2         7\n",
       "nom_3         7\n",
       "nom_4         5\n",
       "nom_5      1220\n",
       "nom_6      1518\n",
       "nom_7       223\n",
       "nom_8       223\n",
       "nom_9      2217\n",
       "ord_0         4\n",
       "ord_1         6\n",
       "ord_2         7\n",
       "ord_3        16\n",
       "ord_4        27\n",
       "ord_5       191\n",
       "day           8\n",
       "month        13\n",
       "dtype: int64"
      ]
     },
     "execution_count": 6,
     "metadata": {},
     "output_type": "execute_result"
    }
   ],
   "source": [
    "test.nunique(dropna=False)"
   ]
  },
  {
   "cell_type": "code",
   "execution_count": 7,
   "metadata": {},
   "outputs": [
    {
     "data": {
      "text/plain": [
       "id            0\n",
       "bin_0     17894\n",
       "bin_1     18003\n",
       "bin_2     17930\n",
       "bin_3     18014\n",
       "bin_4     18047\n",
       "nom_0     18252\n",
       "nom_1     18156\n",
       "nom_2     18035\n",
       "nom_3     18121\n",
       "nom_4     18035\n",
       "nom_5     17778\n",
       "nom_6     18131\n",
       "nom_7     18003\n",
       "nom_8     17755\n",
       "nom_9     18073\n",
       "ord_0     18288\n",
       "ord_1     18041\n",
       "ord_2     18075\n",
       "ord_3     17916\n",
       "ord_4     17930\n",
       "ord_5     17713\n",
       "day       17952\n",
       "month     17988\n",
       "target        0\n",
       "dtype: int64"
      ]
     },
     "execution_count": 7,
     "metadata": {},
     "output_type": "execute_result"
    }
   ],
   "source": [
    "train.isnull().sum(axis=0)"
   ]
  },
  {
   "cell_type": "code",
   "execution_count": 8,
   "metadata": {},
   "outputs": [
    {
     "data": {
      "text/plain": [
       "id           0\n",
       "bin_0    11901\n",
       "bin_1    12038\n",
       "bin_2    11972\n",
       "bin_3    11951\n",
       "bin_4    11951\n",
       "nom_0    12062\n",
       "nom_1    11947\n",
       "nom_2    12179\n",
       "nom_3    12176\n",
       "nom_4    11993\n",
       "nom_5    11912\n",
       "nom_6    12012\n",
       "nom_7    12003\n",
       "nom_8    11956\n",
       "nom_9    12060\n",
       "ord_0    11893\n",
       "ord_1    12167\n",
       "ord_2    12105\n",
       "ord_3    12053\n",
       "ord_4    11933\n",
       "ord_5    12047\n",
       "day      12025\n",
       "month    11984\n",
       "dtype: int64"
      ]
     },
     "execution_count": 8,
     "metadata": {},
     "output_type": "execute_result"
    }
   ],
   "source": [
    "test.isnull().sum(axis=0)"
   ]
  },
  {
   "cell_type": "code",
   "execution_count": 9,
   "metadata": {},
   "outputs": [],
   "source": [
    "train['isnan']=train.isnull().sum(axis=1)\n",
    "test['isnan']=test.isnull().sum(axis=1)"
   ]
  },
  {
   "cell_type": "code",
   "execution_count": 10,
   "metadata": {},
   "outputs": [],
   "source": [
    "train = train.fillna('nan')\n",
    "test = test.fillna('nan')"
   ]
  },
  {
   "cell_type": "code",
   "execution_count": 11,
   "metadata": {},
   "outputs": [
    {
     "data": {
      "text/plain": [
       "\"\\n\\ndef split_0(x):\\n    x = str(x)\\n    if x=='nan':\\n        return x\\n    return x[:3]\\n\\ndef split_1(x):\\n    x = str(x)\\n    if len(x)<6:\\n        return 'nan'\\n    return x[3:6]\\n\\ndef split_2(x):\\n    x = str(x)\\n    if len(x)<9:\\n        return 'nan'\\n    return x[6:9]\\n    \\nnom_features = ['nom_5', 'nom_6', 'nom_7', 'nom_8', 'nom_9']\\nprint(len(np.unique(train[nom_features].values.astype(str).flatten())))\\n\\nuniq = []\\nnom_nom = []\\nnom_features = ['nom_5', 'nom_6', 'nom_7', 'nom_8', 'nom_9']\\nfor feature in nom_features:\\n\\n    train[feature+'_0']=train[feature].apply(lambda x: split_0(x))\\n    train[feature+'_1']=train[feature].apply(lambda x: split_1(x))\\n    train[feature+'_2']=train[feature].apply(lambda x: split_2(x))\\n    \\n    \\n    test[feature+'_0']=test[feature].apply(lambda x: split_0(x))\\n    test[feature+'_1']=test[feature].apply(lambda x: split_1(x))\\n    test[feature+'_2']=test[feature].apply(lambda x: split_2(x))\\n    \\n    nom_nom.append(feature+'_0')\\n    nom_nom.append(feature+'_1')\\n    nom_nom.append(feature+'_2')\\n    \\n\""
      ]
     },
     "execution_count": 11,
     "metadata": {},
     "output_type": "execute_result"
    }
   ],
   "source": [
    "\"\"\"\n",
    "\n",
    "def split_0(x):\n",
    "    x = str(x)\n",
    "    if x=='nan':\n",
    "        return x\n",
    "    return x[:3]\n",
    "\n",
    "def split_1(x):\n",
    "    x = str(x)\n",
    "    if len(x)<6:\n",
    "        return 'nan'\n",
    "    return x[3:6]\n",
    "\n",
    "def split_2(x):\n",
    "    x = str(x)\n",
    "    if len(x)<9:\n",
    "        return 'nan'\n",
    "    return x[6:9]\n",
    "    \n",
    "nom_features = ['nom_5', 'nom_6', 'nom_7', 'nom_8', 'nom_9']\n",
    "print(len(np.unique(train[nom_features].values.astype(str).flatten())))\n",
    "\n",
    "uniq = []\n",
    "nom_nom = []\n",
    "nom_features = ['nom_5', 'nom_6', 'nom_7', 'nom_8', 'nom_9']\n",
    "for feature in nom_features:\n",
    "\n",
    "    train[feature+'_0']=train[feature].apply(lambda x: split_0(x))\n",
    "    train[feature+'_1']=train[feature].apply(lambda x: split_1(x))\n",
    "    train[feature+'_2']=train[feature].apply(lambda x: split_2(x))\n",
    "    \n",
    "    \n",
    "    test[feature+'_0']=test[feature].apply(lambda x: split_0(x))\n",
    "    test[feature+'_1']=test[feature].apply(lambda x: split_1(x))\n",
    "    test[feature+'_2']=test[feature].apply(lambda x: split_2(x))\n",
    "    \n",
    "    nom_nom.append(feature+'_0')\n",
    "    nom_nom.append(feature+'_1')\n",
    "    nom_nom.append(feature+'_2')\n",
    "    \n",
    "\"\"\""
   ]
  },
  {
   "cell_type": "code",
   "execution_count": 12,
   "metadata": {},
   "outputs": [
    {
     "name": "stdout",
     "output_type": "stream",
     "text": [
      "importing numpy on engine(s)\n",
      "importing gc on engine(s)\n"
     ]
    },
    {
     "data": {
      "text/plain": [
       "<AsyncResult: execute:finished>"
      ]
     },
     "execution_count": 12,
     "metadata": {},
     "output_type": "execute_result"
    }
   ],
   "source": [
    "\"\"\"\n",
    "Parallel processing will be used to apply a mean-value encoding rank transform to features in the pandas dataframe.\n",
    "\n",
    "This is accomplished by parallelizing the dataframe across the cores and applying map-reduce to transform the columns.\n",
    "\n",
    "\"\"\"\n",
    "\n",
    "\n",
    "import numpy\n",
    "import ipyparallel as ipp\n",
    "from ipyparallel import Client\n",
    "rc = Client(profile='default')\n",
    "dview = rc[:]\n",
    "dview.block = True\n",
    "\n",
    "\n",
    "# rc.debug = True\n",
    "with dview.sync_imports():\n",
    "    import numpy\n",
    "    import gc\n",
    "    \n",
    "    \n",
    "dview.execute('np=numpy')\n",
    "dview.execute('np.mkl.set_num_threads(2)')"
   ]
  },
  {
   "cell_type": "code",
   "execution_count": 13,
   "metadata": {},
   "outputs": [
    {
     "data": {
      "text/plain": [
       "[0, 1, 2, 3, 4, 5]"
      ]
     },
     "execution_count": 13,
     "metadata": {},
     "output_type": "execute_result"
    }
   ],
   "source": [
    "ids = dview.targets\n",
    "\n",
    "num_cores = len(ids)\n",
    "\n",
    "ids"
   ]
  },
  {
   "cell_type": "code",
   "execution_count": 14,
   "metadata": {},
   "outputs": [],
   "source": [
    "def distribute_df(df):\n",
    "    df_split = np.array_split(df, num_cores, axis=0)\n",
    "\n",
    "    for i in dview.targets:\n",
    "        rc[i]['df'] = df_split[i]\n",
    "\n",
    "    rdf = [ipp.Reference('df') for i in range(num_cores)]\n",
    "    return rdf"
   ]
  },
  {
   "cell_type": "code",
   "execution_count": 15,
   "metadata": {},
   "outputs": [],
   "source": [
    "def map_category_rank(df):\n",
    "    return df[[feature,'target']].groupby(feature).agg(['sum','count'])    \n",
    "\n",
    "def reduce_category_rank(x):\n",
    "    y = pd.concat(x).groupby(level=0).sum()\n",
    "    y.columns = y.columns.droplevel()\n",
    "    y['mean'] = y['sum']/y['count']\n",
    "    return y[['mean']]\n",
    "\n",
    "def map_unique(df):\n",
    "    return df[feature].unique().astype(str)\n",
    "\n",
    "def reduce_unique(x):\n",
    "    return np.unique(np.concatenate(x))\n",
    "\n",
    "def map_missing_rank_transform(df):\n",
    "    df[feature] = df[feature].astype(str).replace(new_category_mapper)\n",
    "    \n",
    "def map_rank_transform(df):\n",
    "#     for key,value in mappers[feature].items():\n",
    "    df[feature] = df[feature].astype(str).replace(mappers[feature])\n",
    "    \n",
    "    \n",
    "class RankTransformParallel:\n",
    "    def __init__( self,dview,ordinal=True):\n",
    "        self.features = []\n",
    "        self.mappers = {}\n",
    "        self.dview = dview\n",
    "        self.ids = dview.targets\n",
    "        self.ordinal=ordinal\n",
    "        \n",
    "    \n",
    "    def fit( self, rdf, features, target ):\n",
    "        self.features = features\n",
    "\n",
    "        for feature in self.features:\n",
    "            self.dview['feature'] = feature\n",
    "            _mapper_ = {}\n",
    "            result=self.dview.map_sync(map_category_rank,rdf)\n",
    "            result=reduce_category_rank(result)\n",
    "\n",
    "            names = result.index.values.astype(str)\n",
    "            \n",
    "            if self.ordinal==True:\n",
    "                values = np.argsort(result['mean'].values)\n",
    "            else:\n",
    "                values = result['mean'].values\n",
    "\n",
    "            for n,v in zip(names,values):\n",
    "                _mapper_[n] = v\n",
    "                \n",
    "            self.mappers[feature] = _mapper_\n",
    "\n",
    "        self.dview['mappers'] = self.mappers\n",
    "        return self \n",
    "    \n",
    "    def transform( self, rdf, y = None ):\n",
    "        \n",
    "        for feature in self.features:\n",
    "\n",
    "            self.dview['feature'] = feature\n",
    "\n",
    "            result = self.dview.map_sync(map_unique,rdf)\n",
    "            _uniq_ = reduce_unique(result)\n",
    "\n",
    "            #if missing assign the median value\n",
    "#             median_value = np.median(list(self.mappers[feature].values()))\n",
    "#             new_category_mapper = {cat:median_value for cat in _uniq_ if cat not in self.mappers[feature].keys()}\n",
    "\n",
    "            \n",
    "            #if missing assign 0\n",
    "            new_category_mapper = {cat:0 for cat in _uniq_ if cat not in self.mappers[feature].keys()}\n",
    "            \n",
    "            dview['new_category_mapper'] = new_category_mapper\n",
    "            if len(new_category_mapper)>0:\n",
    "                print(new_category_mapper)\n",
    "                self.dview.map_sync(map_missing_rank_transform,rdf)\n",
    "            \n",
    "            self.dview.map_sync(map_rank_transform,rdf)\n",
    "\n",
    "            \n",
    "        return pd.concat(self.dview['df'])"
   ]
  },
  {
   "cell_type": "code",
   "execution_count": 16,
   "metadata": {},
   "outputs": [],
   "source": [
    "features = ['bin_0', 'bin_1', 'bin_2', 'bin_3', 'bin_4', \n",
    "       'nom_0', 'nom_1', 'nom_2', 'nom_3', 'nom_4', \n",
    "       'nom_5', 'nom_6', 'nom_7', 'nom_8', 'nom_9',\n",
    "       'ord_0', 'ord_1', 'ord_2', 'ord_3', 'ord_4', 'ord_5',\n",
    "       'day', 'month','isnan']#+nom_nom"
   ]
  },
  {
   "cell_type": "code",
   "execution_count": 17,
   "metadata": {},
   "outputs": [
    {
     "data": {
      "text/plain": [
       "47"
      ]
     },
     "execution_count": 17,
     "metadata": {},
     "output_type": "execute_result"
    }
   ],
   "source": [
    "gc.collect()"
   ]
  },
  {
   "cell_type": "code",
   "execution_count": 18,
   "metadata": {},
   "outputs": [
    {
     "name": "stdout",
     "output_type": "stream",
     "text": [
      "{'a885aacec': 0}\n"
     ]
    }
   ],
   "source": [
    "rt = RankTransformParallel(dview)\n",
    "\n",
    "rdf = distribute_df(train)\n",
    "\n",
    "rt.fit(rdf,features=features,target='target')\n",
    "\n",
    "train_rank = rt.transform(rdf)[features+['target','id']]\n",
    "\n",
    "rdf = distribute_df(test)\n",
    "\n",
    "test_rank = rt.transform(rdf)[features+['id']]"
   ]
  },
  {
   "cell_type": "code",
   "execution_count": 19,
   "metadata": {},
   "outputs": [
    {
     "data": {
      "text/plain": [
       "\"\\nimport itertools\\nfrom collections import defaultdict\\nlkup = defaultdict(lambda: defaultdict(int))\\n\\ngroups = [\\n        ['nom_5_0','nom_6_0','nom_9_0'],\\n          ['nom_5_1','nom_6_1','nom_9_1'],\\n          ['nom_5_2','nom_6_2','nom_9_2'],\\n         ]\\n\\nfor group in groups:\\n    group = list(group)\\n    print(group)\\n    \\n    tmp=train_rank[group+['target']].groupby(group).agg(['sum','mean']) \\n    tmp.columns = tmp.columns.droplevel()\\n    lkup[tuple(group)] = tmp[(tmp['mean']==1)&(tmp['sum']==1)].reset_index()[group]\\n    \\n    plt.plot(train_rank[group+['target']].groupby(group).mean().sort_values(by='target').values)\\n    plt.show()\\n    \\ntrain_leakage = []\\ntest_leakage = []\\n\\nfor group in groups:\\n\\n    trainleak = train_rank[group].apply(lambda x: np.any(np.all(x.values==lkup[tuple(group)].values,axis=1)),axis=1)\\n    testleak = test_rank[group].apply(lambda x: np.any(np.all(x.values==lkup[tuple(group)].values,axis=1)),axis=1)\\n    train_leakage.append(trainleak)\\n    test_leakage.append(testleak)\\n\""
      ]
     },
     "execution_count": 19,
     "metadata": {},
     "output_type": "execute_result"
    }
   ],
   "source": [
    "\"\"\"\n",
    "import itertools\n",
    "from collections import defaultdict\n",
    "lkup = defaultdict(lambda: defaultdict(int))\n",
    "\n",
    "groups = [\n",
    "        ['nom_5_0','nom_6_0','nom_9_0'],\n",
    "          ['nom_5_1','nom_6_1','nom_9_1'],\n",
    "          ['nom_5_2','nom_6_2','nom_9_2'],\n",
    "         ]\n",
    "\n",
    "for group in groups:\n",
    "    group = list(group)\n",
    "    print(group)\n",
    "    \n",
    "    tmp=train_rank[group+['target']].groupby(group).agg(['sum','mean']) \n",
    "    tmp.columns = tmp.columns.droplevel()\n",
    "    lkup[tuple(group)] = tmp[(tmp['mean']==1)&(tmp['sum']==1)].reset_index()[group]\n",
    "    \n",
    "    plt.plot(train_rank[group+['target']].groupby(group).mean().sort_values(by='target').values)\n",
    "    plt.show()\n",
    "    \n",
    "train_leakage = []\n",
    "test_leakage = []\n",
    "\n",
    "for group in groups:\n",
    "\n",
    "    trainleak = train_rank[group].apply(lambda x: np.any(np.all(x.values==lkup[tuple(group)].values,axis=1)),axis=1)\n",
    "    testleak = test_rank[group].apply(lambda x: np.any(np.all(x.values==lkup[tuple(group)].values,axis=1)),axis=1)\n",
    "    train_leakage.append(trainleak)\n",
    "    test_leakage.append(testleak)\n",
    "\"\"\""
   ]
  },
  {
   "cell_type": "code",
   "execution_count": 20,
   "metadata": {},
   "outputs": [
    {
     "data": {
      "image/png": "[encoded data removed]",
      "text/plain": [
       "<Figure size 864x648 with 1 Axes>"
      ]
     },
     "metadata": {
      "needs_background": "light"
     },
     "output_type": "display_data"
    }
   ],
   "source": [
    "plt.figure(figsize=(12, 9))    \n",
    "  \n",
    "# Remove the plot frame lines. They are unnecessary chartjunk.    \n",
    "ax = plt.subplot(111)    \n",
    "ax.spines[\"top\"].set_visible(False)    \n",
    "ax.spines[\"bottom\"].set_visible(False)    \n",
    "ax.spines[\"right\"].set_visible(False)    \n",
    "ax.spines[\"left\"].set_visible(False)    \n",
    "  \n",
    "# Ensure that the axis ticks only show up on the bottom and left of the plot.    \n",
    "# Ticks on the right and top of the plot are generally unnecessary chartjunk.    \n",
    "ax.get_xaxis().tick_bottom()    \n",
    "ax.get_yaxis().tick_left()    \n",
    "\n",
    "plt.plot(train_rank[['nom_9','target']].groupby('nom_9').mean().sort_values(by='target').values)\n",
    "plt.show()"
   ]
  },
  {
   "cell_type": "code",
   "execution_count": null,
   "metadata": {},
   "outputs": [],
   "source": []
  },
  {
   "cell_type": "code",
   "execution_count": 21,
   "metadata": {},
   "outputs": [],
   "source": [
    "binned_features = []\n",
    "for f0 in ['nom_5','nom_6','nom_9']:\n",
    "    \n",
    "    bins = np.minimum(train_rank[f0].nunique(),256)\n",
    "    \n",
    "    XTRAIN = train_rank[f0].values.flatten().astype(np.float)\n",
    "    XTEST = test_rank[f0].values.flatten().astype(np.float)\n",
    "\n",
    "    #percentile based bins\n",
    "    percentiles_bins = np.percentile(XTRAIN,\n",
    "                                     np.linspace(0,100,bins))\n",
    "    #bin limits based on the test data\n",
    "#     _bins_ = np.linspace(np.min(XTRAIN),np.max(XTRAIN),bins)\n",
    "    \n",
    "    XTRAIN = np.digitize(XTRAIN,percentiles_bins)-1\n",
    "    XTEST = np.digitize(XTEST,percentiles_bins)-1\n",
    "    \n",
    "    train_rank[f0+'_binned'] = XTRAIN\n",
    "    test_rank[f0+'_binned'] = XTEST\n",
    "    \n",
    "    binned_features.append(f0+'_binned')\n",
    "    \n",
    "for f0 in ['nom_7','nom_8','ord_5']:\n",
    "    \n",
    "    bins = np.minimum(train_rank[f0].nunique(),128)\n",
    "    \n",
    "    XTRAIN = train_rank[f0].values.flatten().astype(np.float)\n",
    "    XTEST = test_rank[f0].values.flatten().astype(np.float)\n",
    "\n",
    "    #percentile based bins\n",
    "    percentiles_bins = np.percentile(XTRAIN,\n",
    "                                     np.linspace(0,100,bins))\n",
    "    #bin limits based on the test data\n",
    "#     _bins_ = np.linspace(np.min(XTRAIN),np.max(XTRAIN),bins)\n",
    "    \n",
    "    XTRAIN = np.digitize(XTRAIN,percentiles_bins)-1\n",
    "    XTEST = np.digitize(XTEST,percentiles_bins)-1\n",
    "    \n",
    "    train_rank[f0+'_binned'] = XTRAIN\n",
    "    test_rank[f0+'_binned'] = XTEST\n",
    "    \n",
    "    binned_features.append(f0+'_binned')"
   ]
  },
  {
   "cell_type": "code",
   "execution_count": 22,
   "metadata": {},
   "outputs": [
    {
     "data": {
      "image/png": "[encoded data removed]",
      "text/plain": [
       "<Figure size 864x648 with 1 Axes>"
      ]
     },
     "metadata": {
      "needs_background": "light"
     },
     "output_type": "display_data"
    }
   ],
   "source": [
    "plt.figure(figsize=(12, 9))    \n",
    "  \n",
    "# Remove the plot frame lines. They are unnecessary chartjunk.    \n",
    "ax = plt.subplot(111)    \n",
    "ax.spines[\"top\"].set_visible(False)    \n",
    "ax.spines[\"bottom\"].set_visible(False)    \n",
    "ax.spines[\"right\"].set_visible(False)    \n",
    "ax.spines[\"left\"].set_visible(False)    \n",
    "  \n",
    "# Ensure that the axis ticks only show up on the bottom and left of the plot.    \n",
    "# Ticks on the right and top of the plot are generally unnecessary chartjunk.    \n",
    "ax.get_xaxis().tick_bottom()    \n",
    "ax.get_yaxis().tick_left()    \n",
    "\n",
    "plt.plot(train_rank[['nom_9_binned','target']].groupby('nom_9_binned').mean().sort_values(by='target').values)\n",
    "plt.show()"
   ]
  },
  {
   "cell_type": "code",
   "execution_count": 23,
   "metadata": {},
   "outputs": [
    {
     "data": {
      "text/plain": [
       "10723"
      ]
     },
     "execution_count": 23,
     "metadata": {},
     "output_type": "execute_result"
    }
   ],
   "source": [
    "del train\n",
    "del test\n",
    "\n",
    "gc.collect()"
   ]
  },
  {
   "cell_type": "code",
   "execution_count": null,
   "metadata": {},
   "outputs": [],
   "source": []
  },
  {
   "cell_type": "code",
   "execution_count": 24,
   "metadata": {},
   "outputs": [
    {
     "data": {
      "text/plain": [
       "\"\\n# create interation variables\\n\\ngroup = ['bin_0_binned',\\n 'bin_1_binned',\\n 'bin_2_binned',\\n 'bin_3_binned',\\n 'bin_4_binned',\\n 'nom_3_binned',\\n 'ord_0_binned',\\n 'ord_1_binned',\\n 'ord_2_binned',\\n 'ord_3_binned',\\n 'ord_4_binned',\\n 'ord_5_binned',\\n 'day_binned',\\n 'month_binned']\\n\\nimport itertools\\nbinned_interaction = []\\n\\ngroups = list(itertools.combinations(group,2))\\nfor f0,f1 in groups:\\n    \\n    col = f0+'_'+f1\\n    print(col)\\n    \\n    binned_interaction.append(col)\\n    \\n    if col in train_rank.columns and col in test_rank.columns:\\n        continue\\n    \\n    train_rank[col] = train_rank[[f0, f1]].apply(lambda x: str(x[0])+'_'+str(x[1]) ,axis=1)\\n    test_rank[col] = test_rank[[f0, f1]].apply(lambda x: str(x[0])+'_'+str(x[1]) ,axis=1)\\n\""
      ]
     },
     "execution_count": 24,
     "metadata": {},
     "output_type": "execute_result"
    }
   ],
   "source": [
    "\"\"\"\n",
    "# create interation variables\n",
    "\n",
    "group = ['bin_0_binned',\n",
    " 'bin_1_binned',\n",
    " 'bin_2_binned',\n",
    " 'bin_3_binned',\n",
    " 'bin_4_binned',\n",
    " 'nom_3_binned',\n",
    " 'ord_0_binned',\n",
    " 'ord_1_binned',\n",
    " 'ord_2_binned',\n",
    " 'ord_3_binned',\n",
    " 'ord_4_binned',\n",
    " 'ord_5_binned',\n",
    " 'day_binned',\n",
    " 'month_binned']\n",
    "\n",
    "import itertools\n",
    "binned_interaction = []\n",
    "\n",
    "groups = list(itertools.combinations(group,2))\n",
    "for f0,f1 in groups:\n",
    "    \n",
    "    col = f0+'_'+f1\n",
    "    print(col)\n",
    "    \n",
    "    binned_interaction.append(col)\n",
    "    \n",
    "    if col in train_rank.columns and col in test_rank.columns:\n",
    "        continue\n",
    "    \n",
    "    train_rank[col] = train_rank[[f0, f1]].apply(lambda x: str(x[0])+'_'+str(x[1]) ,axis=1)\n",
    "    test_rank[col] = test_rank[[f0, f1]].apply(lambda x: str(x[0])+'_'+str(x[1]) ,axis=1)\n",
    "\"\"\"\n",
    "    "
   ]
  },
  {
   "cell_type": "code",
   "execution_count": 25,
   "metadata": {},
   "outputs": [
    {
     "data": {
      "text/plain": [
       "40"
      ]
     },
     "execution_count": 25,
     "metadata": {},
     "output_type": "execute_result"
    }
   ],
   "source": [
    "gc.collect()"
   ]
  },
  {
   "cell_type": "code",
   "execution_count": 26,
   "metadata": {},
   "outputs": [
    {
     "data": {
      "text/plain": [
       "\"\\nfor feature in binned_interaction:\\n    print(feature)\\n    feature = [feature]\\n    rt = RankTransformParallel(dview)\\n\\n    rdf = distribute_df(train_rank[feature+['target']])\\n\\n    rt.fit(rdf,features=feature,target='target')\\n\\n    train_rank[feature] = rt.transform(rdf)[feature]\\n\\n    rdf = distribute_df(test_rank[feature])\\n\\n    test_rank[feature] = rt.transform(rdf)[feature]\\n    \\n    feature = feature[0]\\n    bins = np.minimum(train_rank[feature].nunique(),16)\\n    \\n    XTRAIN = train_rank[feature].values.flatten().astype(np.float)\\n    XTEST = test_rank[feature].values.flatten().astype(np.float)\\n    \\n    #bin limits based on the test data\\n    _bins_ = np.linspace(np.min(XTRAIN),np.max(XTRAIN),bins)\\n    \\n    XTRAIN = np.digitize(XTRAIN,_bins_)-1\\n    XTEST = np.digitize(XTEST,_bins_)-1\\n    \\n    train_rank[feature] = XTRAIN\\n    test_rank[feature] = XTEST\\n\""
      ]
     },
     "execution_count": 26,
     "metadata": {},
     "output_type": "execute_result"
    }
   ],
   "source": [
    "\"\"\"\n",
    "for feature in binned_interaction:\n",
    "    print(feature)\n",
    "    feature = [feature]\n",
    "    rt = RankTransformParallel(dview)\n",
    "\n",
    "    rdf = distribute_df(train_rank[feature+['target']])\n",
    "\n",
    "    rt.fit(rdf,features=feature,target='target')\n",
    "\n",
    "    train_rank[feature] = rt.transform(rdf)[feature]\n",
    "\n",
    "    rdf = distribute_df(test_rank[feature])\n",
    "\n",
    "    test_rank[feature] = rt.transform(rdf)[feature]\n",
    "    \n",
    "    feature = feature[0]\n",
    "    bins = np.minimum(train_rank[feature].nunique(),16)\n",
    "    \n",
    "    XTRAIN = train_rank[feature].values.flatten().astype(np.float)\n",
    "    XTEST = test_rank[feature].values.flatten().astype(np.float)\n",
    "    \n",
    "    #bin limits based on the test data\n",
    "    _bins_ = np.linspace(np.min(XTRAIN),np.max(XTRAIN),bins)\n",
    "    \n",
    "    XTRAIN = np.digitize(XTRAIN,_bins_)-1\n",
    "    XTEST = np.digitize(XTEST,_bins_)-1\n",
    "    \n",
    "    train_rank[feature] = XTRAIN\n",
    "    test_rank[feature] = XTEST\n",
    "\"\"\""
   ]
  },
  {
   "cell_type": "code",
   "execution_count": 27,
   "metadata": {},
   "outputs": [
    {
     "data": {
      "text/plain": [
       "40"
      ]
     },
     "execution_count": 27,
     "metadata": {},
     "output_type": "execute_result"
    }
   ],
   "source": [
    "gc.collect()"
   ]
  },
  {
   "cell_type": "code",
   "execution_count": 28,
   "metadata": {},
   "outputs": [],
   "source": [
    "train_rank.to_pickle('train_rank_binned_pro')\n",
    "test_rank.to_pickle('test_rank_binned_pro')"
   ]
  },
  {
   "cell_type": "code",
   "execution_count": 29,
   "metadata": {},
   "outputs": [],
   "source": [
    "train_rank = pd.read_pickle('train_rank_binned_pro')\n",
    "test_rank=pd.read_pickle('test_rank_binned_pro')"
   ]
  },
  {
   "cell_type": "code",
   "execution_count": 30,
   "metadata": {},
   "outputs": [],
   "source": [
    "emb_features = [x for x in train_rank.columns if 'target' not in x and 'id' not in x]"
   ]
  },
  {
   "cell_type": "code",
   "execution_count": 31,
   "metadata": {},
   "outputs": [
    {
     "data": {
      "text/plain": [
       "'\\n#Find places where the binned interations are not represented in the test dataset\\nimport re\\nfor feature in group:\\n    print(feature)\\n    match_re = re.compile(feature)\\n    reduce = np.array([x for x in binned_interaction if len(match_re.findall(x))>0])\\n    \\n    msk = np.any((train_rank.loc[:,reduce]==0).values,axis=1).astype(np.float)\\n    train_rank.loc[:,feature]=train_rank.loc[:,feature]*msk\\n    \\n    msk = np.any((test_rank.loc[:,reduce]==0).values,axis=1).astype(np.float)\\n    test_rank.loc[:,feature]=test_rank.loc[:,feature]*msk \\n'"
      ]
     },
     "execution_count": 31,
     "metadata": {},
     "output_type": "execute_result"
    }
   ],
   "source": [
    "\"\"\"\n",
    "#Find places where the binned interations are not represented in the test dataset\n",
    "import re\n",
    "for feature in group:\n",
    "    print(feature)\n",
    "    match_re = re.compile(feature)\n",
    "    reduce = np.array([x for x in binned_interaction if len(match_re.findall(x))>0])\n",
    "    \n",
    "    msk = np.any((train_rank.loc[:,reduce]==0).values,axis=1).astype(np.float)\n",
    "    train_rank.loc[:,feature]=train_rank.loc[:,feature]*msk\n",
    "    \n",
    "    msk = np.any((test_rank.loc[:,reduce]==0).values,axis=1).astype(np.float)\n",
    "    test_rank.loc[:,feature]=test_rank.loc[:,feature]*msk \n",
    "\"\"\""
   ]
  },
  {
   "cell_type": "code",
   "execution_count": 32,
   "metadata": {},
   "outputs": [
    {
     "data": {
      "text/plain": [
       "30"
      ]
     },
     "execution_count": 32,
     "metadata": {},
     "output_type": "execute_result"
    }
   ],
   "source": [
    "len(emb_features)"
   ]
  },
  {
   "cell_type": "code",
   "execution_count": 33,
   "metadata": {},
   "outputs": [
    {
     "data": {
      "text/plain": [
       "\"\\n#Count of feature interations in the train and test group\\nno_info_train_msk = np.zeros(train_rank.shape[0],dtype=np.bool)\\nno_info_test_msk = np.zeros(test_rank.shape[0],dtype=np.bool)\\n\\nno_info = []\\nno_info_count = 0\\nN=0\\ngroups = list(itertools.combinations(['nom_5','nom_6_0'],2))\\nprint(len(groups))\\nfor group in groups:\\n\\n    group = list(group)\\n#     group = ['nom_8', 'nom_9']\\n    percent = train_rank[group+['target']].groupby(group).mean()\\n    count = train_rank[group+['target']].groupby(group).sum()\\n\\n\\n    tmp = percent[(percent['target']==1)&(count['target']==1)]\\n\\n    if tmp.shape[0]>0:\\n        no_info_count+=tmp.shape[0]\\n        arr = tmp.reset_index()[group].values\\n\\n        test_msk = test_rank[group].apply(tuple, axis = 1).isin(tuple(map(tuple, arr)))\\n        train_msk = train_rank[group].apply(tuple, axis = 1).isin(tuple(map(tuple, arr)))\\n        no_info_test_msk=no_info_test_msk|test_msk\\n        no_info_train_msk=no_info_train_msk|train_msk\\n        print('_'.join(group))\\n        print(np.sum(train_msk),np.sum(test_msk),N)\\n\\n        no_info.append([group,tuple(map(tuple, arr)),train_msk,test_msk])\\n    N+=1\\n\""
      ]
     },
     "execution_count": 33,
     "metadata": {},
     "output_type": "execute_result"
    }
   ],
   "source": [
    "\"\"\"\n",
    "#Count of feature interations in the train and test group\n",
    "no_info_train_msk = np.zeros(train_rank.shape[0],dtype=np.bool)\n",
    "no_info_test_msk = np.zeros(test_rank.shape[0],dtype=np.bool)\n",
    "\n",
    "no_info = []\n",
    "no_info_count = 0\n",
    "N=0\n",
    "groups = list(itertools.combinations(['nom_5','nom_6_0'],2))\n",
    "print(len(groups))\n",
    "for group in groups:\n",
    "\n",
    "    group = list(group)\n",
    "#     group = ['nom_8', 'nom_9']\n",
    "    percent = train_rank[group+['target']].groupby(group).mean()\n",
    "    count = train_rank[group+['target']].groupby(group).sum()\n",
    "\n",
    "\n",
    "    tmp = percent[(percent['target']==1)&(count['target']==1)]\n",
    "\n",
    "    if tmp.shape[0]>0:\n",
    "        no_info_count+=tmp.shape[0]\n",
    "        arr = tmp.reset_index()[group].values\n",
    "\n",
    "        test_msk = test_rank[group].apply(tuple, axis = 1).isin(tuple(map(tuple, arr)))\n",
    "        train_msk = train_rank[group].apply(tuple, axis = 1).isin(tuple(map(tuple, arr)))\n",
    "        no_info_test_msk=no_info_test_msk|test_msk\n",
    "        no_info_train_msk=no_info_train_msk|train_msk\n",
    "        print('_'.join(group))\n",
    "        print(np.sum(train_msk),np.sum(test_msk),N)\n",
    "\n",
    "        no_info.append([group,tuple(map(tuple, arr)),train_msk,test_msk])\n",
    "    N+=1\n",
    "\"\"\""
   ]
  },
  {
   "cell_type": "code",
   "execution_count": 34,
   "metadata": {},
   "outputs": [],
   "source": [
    "pd.set_option('display.max_rows', 500)\n",
    "pd.set_option('display.max_columns', 500)"
   ]
  },
  {
   "cell_type": "code",
   "execution_count": null,
   "metadata": {},
   "outputs": [],
   "source": []
  },
  {
   "cell_type": "code",
   "execution_count": 35,
   "metadata": {},
   "outputs": [],
   "source": [
    "import tensorflow as tf\n",
    "import pickle\n"
   ]
  },
  {
   "cell_type": "code",
   "execution_count": 36,
   "metadata": {},
   "outputs": [],
   "source": [
    "def stratified_sample_df(df, col, n_samples):\n",
    "    n = min(n_samples, df[col].value_counts().min())\n",
    "    df_ = df.groupby(col).apply(lambda x: x.sample(n))\n",
    "    df_.index = df_.index.droplevel(0)\n",
    "    return df_,df_.index.values"
   ]
  },
  {
   "cell_type": "code",
   "execution_count": 37,
   "metadata": {},
   "outputs": [],
   "source": [
    "train_rank['target_0']=train_rank['target']==0\n",
    "train_rank['target_1']=train_rank['target']==1"
   ]
  },
  {
   "cell_type": "code",
   "execution_count": 38,
   "metadata": {},
   "outputs": [],
   "source": [
    "train_rank.reset_index(drop=True,inplace=True)\n",
    "test_rank.reset_index(drop=True,inplace=True)"
   ]
  },
  {
   "cell_type": "code",
   "execution_count": 39,
   "metadata": {},
   "outputs": [
    {
     "data": {
      "text/plain": [
       "62"
      ]
     },
     "execution_count": 39,
     "metadata": {},
     "output_type": "execute_result"
    }
   ],
   "source": [
    "gc.collect()"
   ]
  },
  {
   "cell_type": "code",
   "execution_count": 40,
   "metadata": {},
   "outputs": [],
   "source": [
    "class CatEmbeddingBlock(tf.keras.Model):\n",
    "    def __init__(self,n_uniq,embed_dim):\n",
    "        super(CatEmbeddingBlock,self).__init__(name='')\n",
    "        self.emb = tf.keras.layers.Embedding(n_uniq + 1, embed_dim)\n",
    "        self.drop = tf.keras.layers.SpatialDropout1D(0.1)\n",
    "        self.out = tf.keras.layers.Reshape(target_shape=(embed_dim, ))\n",
    "            \n",
    "    def call(self,input_data,training=False):\n",
    "\n",
    "        emb = self.emb(input_data)\n",
    "        drop = self.drop(emb)\n",
    "        out = self.out(drop)\n",
    "\n",
    "        return out"
   ]
  },
  {
   "cell_type": "code",
   "execution_count": 41,
   "metadata": {},
   "outputs": [],
   "source": [
    "emb_features = [x for x in train_rank.columns if 'target' not in x and 'id' not in x]"
   ]
  },
  {
   "cell_type": "code",
   "execution_count": 42,
   "metadata": {},
   "outputs": [],
   "source": [
    "emb_features = np.array(emb_features)"
   ]
  },
  {
   "cell_type": "code",
   "execution_count": 43,
   "metadata": {},
   "outputs": [],
   "source": [
    "np.mkl.set_num_threads(6)\n",
    "tf.keras.backend.clear_session()"
   ]
  },
  {
   "cell_type": "code",
   "execution_count": 44,
   "metadata": {
    "scrolled": true
   },
   "outputs": [
    {
     "name": "stdout",
     "output_type": "stream",
     "text": [
      "0\n",
      "1\n",
      "2\n",
      "3\n",
      "4\n",
      "5\n",
      "6\n",
      "7\n",
      "8\n",
      "9\n",
      "10\n",
      "11\n",
      "12\n",
      "13\n",
      "14\n",
      "15\n",
      "16\n",
      "17\n",
      "18\n",
      "19\n",
      "20\n",
      "21\n",
      "22\n",
      "23\n",
      "24\n",
      "25\n",
      "26\n",
      "27\n",
      "28\n",
      "29\n"
     ]
    }
   ],
   "source": [
    "import tensorflow as tf\n",
    "inputs = []\n",
    "embed_layers = []\n",
    "embed_dims = []\n",
    "num_unique_values = []\n",
    "for i in range(train_rank[emb_features].shape[1]):\n",
    "    print(i)\n",
    "    inp = tf.keras.layers.Input(shape=(1,))\n",
    "    \n",
    "    n_uniq = np.max(train_rank[emb_features].values[:,i]).astype(np.int)\n",
    "#     embed_dim = int(min(np.ceil((n_uniq)/2), 32))\n",
    "    embed_dim = int(min(n_uniq, 32))\n",
    "    \n",
    "    layer = CatEmbeddingBlock(n_uniq,embed_dim)(inp)\n",
    "    \n",
    "    \n",
    "    inputs.append(inp)\n",
    "    embed_layers.append(layer)\n",
    "    \n",
    "    embed_dims.append(embed_dim)\n",
    "    num_unique_values.append(n_uniq)"
   ]
  },
  {
   "cell_type": "code",
   "execution_count": 45,
   "metadata": {},
   "outputs": [
    {
     "data": {
      "text/plain": [
       "Index(['bin_0', 'bin_1', 'bin_2', 'bin_3', 'bin_4', 'nom_0', 'nom_1', 'nom_2',\n",
       "       'nom_3', 'nom_4', 'nom_5', 'nom_6', 'nom_7', 'nom_8', 'nom_9', 'ord_0',\n",
       "       'ord_1', 'ord_2', 'ord_3', 'ord_4', 'ord_5', 'day', 'month', 'isnan',\n",
       "       'id', 'nom_5_binned', 'nom_6_binned', 'nom_9_binned', 'nom_7_binned',\n",
       "       'nom_8_binned', 'ord_5_binned'],\n",
       "      dtype='object')"
      ]
     },
     "execution_count": 45,
     "metadata": {},
     "output_type": "execute_result"
    }
   ],
   "source": [
    "test_rank.columns"
   ]
  },
  {
   "cell_type": "code",
   "execution_count": 46,
   "metadata": {},
   "outputs": [],
   "source": [
    "D = len(emb_features)"
   ]
  },
  {
   "cell_type": "code",
   "execution_count": 47,
   "metadata": {
    "scrolled": true
   },
   "outputs": [
    {
     "data": {
      "text/plain": [
       "30"
      ]
     },
     "execution_count": 47,
     "metadata": {},
     "output_type": "execute_result"
    }
   ],
   "source": [
    "D"
   ]
  },
  {
   "cell_type": "code",
   "execution_count": 48,
   "metadata": {},
   "outputs": [],
   "source": [
    "# raw_input = tf.keras.Input(shape=(D))\n",
    "# e = tf.keras.layers.Concatenate()(embed_layers+[raw_input])\n",
    "\n",
    "e = tf.keras.layers.Concatenate()(embed_layers)\n",
    "e = tf.keras.layers.BatchNormalization()(e)\n",
    "e = tf.keras.layers.Dense(300, activation=\"relu\")(e)\n",
    "e = tf.keras.layers.Dropout(0.3)(e)\n",
    "e = tf.keras.layers.BatchNormalization()(e)\n",
    "e = tf.keras.layers.Dense(300, activation=\"relu\")(e)\n",
    "e = tf.keras.layers.Dropout(0.3)(e)\n",
    "e = tf.keras.layers.BatchNormalization()(e)\n",
    "\n",
    "\n",
    "output = tf.keras.layers.Dense(2, activation=\"softmax\")(e)"
   ]
  },
  {
   "cell_type": "code",
   "execution_count": 49,
   "metadata": {},
   "outputs": [],
   "source": [
    "# model = tf.keras.Model(inputs+[raw_input], output)\n",
    "model = tf.keras.Model(inputs, output)\n",
    "\n",
    "# concat_layers.shape\n",
    "\n",
    "model.compile(optimizer=tf.keras.optimizers.Adam(),\n",
    "              loss=tf.keras.losses.categorical_crossentropy,\n",
    "              metrics=['accuracy',tf.keras.metrics.AUC()])"
   ]
  },
  {
   "cell_type": "code",
   "execution_count": 50,
   "metadata": {},
   "outputs": [],
   "source": [
    "init_W = model.get_weights()"
   ]
  },
  {
   "cell_type": "code",
   "execution_count": 51,
   "metadata": {},
   "outputs": [],
   "source": [
    "\n",
    "train_rank['target_0']=train_rank['target']==0\n",
    "train_rank['target_1']=train_rank['target']==1"
   ]
  },
  {
   "cell_type": "code",
   "execution_count": 52,
   "metadata": {},
   "outputs": [],
   "source": [
    "def stratified_sample_df(df, col, n_samples):\n",
    "    n = min(n_samples, df[col].value_counts().min())\n",
    "    df_ = df.groupby(col).apply(lambda x: x.sample(n))\n",
    "    df_.index = df_.index.droplevel(0)\n",
    "    return df_.index.values"
   ]
  },
  {
   "cell_type": "code",
   "execution_count": 61,
   "metadata": {},
   "outputs": [
    {
     "name": "stderr",
     "output_type": "stream",
     "text": [
      "/Users/rohankotwani/anaconda3/envs/py37/lib/python3.7/site-packages/ipykernel_launcher.py:6: SettingWithCopyWarning: \n",
      "A value is trying to be set on a copy of a slice from a DataFrame.\n",
      "Try using .loc[row_indexer,col_indexer] = value instead\n",
      "\n",
      "See the caveats in the documentation: http://pandas.pydata.org/pandas-docs/stable/user_guide/indexing.html#returning-a-view-versus-a-copy\n",
      "  \n"
     ]
    },
    {
     "name": "stdout",
     "output_type": "stream",
     "text": [
      "done creating data\n",
      "Train on 196565 samples, validate on 28081 samples\n",
      "Epoch 1/100\n",
      "196565/196565 [==============================] - 12s 60us/sample - loss: 0.5989 - accuracy: 0.6858 - auc: 0.7496 - val_loss: 0.5573 - val_accuracy: 0.7080 - val_auc: 0.7843\n",
      "Epoch 2/100\n",
      "196565/196565 [==============================] - 12s 59us/sample - loss: 0.5559 - accuracy: 0.7134 - auc: 0.7869 - val_loss: 0.5569 - val_accuracy: 0.7123 - val_auc: 0.7858\n",
      "Epoch 3/100\n",
      "196565/196565 [==============================] - 12s 59us/sample - loss: 0.5479 - accuracy: 0.7187 - auc: 0.7942 - val_loss: 0.5590 - val_accuracy: 0.7117 - val_auc: 0.7836\n",
      "Epoch 4/100\n",
      "196565/196565 [==============================] - 12s 59us/sample - loss: 0.5394 - accuracy: 0.7255 - auc: 0.8017 - val_loss: 0.5608 - val_accuracy: 0.7068 - val_auc: 0.7819\n",
      "Epoch 5/100\n",
      "195584/196565 [============================>.] - ETA: 0s - loss: 0.5277 - accuracy: 0.7333 - auc: 0.8120\n",
      "Epoch 00005: ReduceLROnPlateau reducing learning rate to 0.001.\n",
      "196565/196565 [==============================] - 12s 60us/sample - loss: 0.5277 - accuracy: 0.7333 - auc: 0.8120 - val_loss: 0.5681 - val_accuracy: 0.7062 - val_auc: 0.7768\n",
      "Epoch 6/100\n",
      "196565/196565 [==============================] - 12s 59us/sample - loss: 0.5087 - accuracy: 0.7469 - auc: 0.8276 - val_loss: 0.5818 - val_accuracy: 0.7033 - val_auc: 0.7715\n",
      "Epoch 7/100\n",
      "196352/196565 [============================>.] - ETA: 0s - loss: 0.4854 - accuracy: 0.7631 - auc: 0.8455Restoring model weights from the end of the best epoch.\n",
      "196565/196565 [==============================] - 12s 60us/sample - loss: 0.4854 - accuracy: 0.7631 - auc: 0.8454 - val_loss: 0.5903 - val_accuracy: 0.6931 - val_auc: 0.7624\n",
      "Epoch 00007: early stopping\n"
     ]
    },
    {
     "name": "stderr",
     "output_type": "stream",
     "text": [
      "/Users/rohankotwani/anaconda3/envs/py37/lib/python3.7/site-packages/ipykernel_launcher.py:56: SettingWithCopyWarning: \n",
      "A value is trying to be set on a copy of a slice from a DataFrame.\n",
      "Try using .loc[row_indexer,col_indexer] = value instead\n",
      "\n",
      "See the caveats in the documentation: http://pandas.pydata.org/pandas-docs/stable/user_guide/indexing.html#returning-a-view-versus-a-copy\n"
     ]
    },
    {
     "name": "stdout",
     "output_type": "stream",
     "text": [
      "\n",
      "done creating data\n",
      "Train on 196565 samples, validate on 28081 samples\n",
      "Epoch 1/100\n",
      "196565/196565 [==============================] - 12s 62us/sample - loss: 0.5957 - accuracy: 0.6867 - auc: 0.7520 - val_loss: 0.5641 - val_accuracy: 0.7039 - val_auc: 0.7778\n",
      "Epoch 2/100\n",
      "196565/196565 [==============================] - 12s 61us/sample - loss: 0.5559 - accuracy: 0.7131 - auc: 0.7867 - val_loss: 0.5623 - val_accuracy: 0.7059 - val_auc: 0.7797\n",
      "Epoch 3/100\n",
      "196565/196565 [==============================] - 13s 65us/sample - loss: 0.5470 - accuracy: 0.7200 - auc: 0.7951 - val_loss: 0.5638 - val_accuracy: 0.7057 - val_auc: 0.7784\n",
      "Epoch 4/100\n",
      "196565/196565 [==============================] - 12s 62us/sample - loss: 0.5385 - accuracy: 0.7256 - auc: 0.8024 - val_loss: 0.5674 - val_accuracy: 0.7023 - val_auc: 0.7751\n",
      "Epoch 5/100\n",
      "195584/196565 [============================>.] - ETA: 0s - loss: 0.5272 - accuracy: 0.7339 - auc: 0.8124\n",
      "Epoch 00005: ReduceLROnPlateau reducing learning rate to 0.001.\n",
      "196565/196565 [==============================] - 13s 66us/sample - loss: 0.5272 - accuracy: 0.7340 - auc: 0.8125 - val_loss: 0.5749 - val_accuracy: 0.7000 - val_auc: 0.7705\n",
      "Epoch 6/100\n",
      "196565/196565 [==============================] - 13s 64us/sample - loss: 0.5097 - accuracy: 0.7465 - auc: 0.8270 - val_loss: 0.5833 - val_accuracy: 0.6957 - val_auc: 0.7655\n",
      "Epoch 7/100\n",
      "195840/196565 [============================>.] - ETA: 0s - loss: 0.4842 - accuracy: 0.7630 - auc: 0.8461Restoring model weights from the end of the best epoch.\n",
      "196565/196565 [==============================] - 12s 59us/sample - loss: 0.4842 - accuracy: 0.7630 - auc: 0.8462 - val_loss: 0.6036 - val_accuracy: 0.6885 - val_auc: 0.7592\n",
      "Epoch 00007: early stopping\n",
      "\n",
      "done creating data\n",
      "Train on 196565 samples, validate on 28081 samples\n",
      "Epoch 1/100\n",
      "196565/196565 [==============================] - 12s 62us/sample - loss: 0.5961 - accuracy: 0.6858 - auc: 0.7511 - val_loss: 0.5575 - val_accuracy: 0.7130 - val_auc: 0.7847\n",
      "Epoch 2/100\n",
      "196565/196565 [==============================] - 12s 59us/sample - loss: 0.5556 - accuracy: 0.7134 - auc: 0.7871 - val_loss: 0.5582 - val_accuracy: 0.7120 - val_auc: 0.7837\n",
      "Epoch 3/100\n",
      "196565/196565 [==============================] - 11s 58us/sample - loss: 0.5478 - accuracy: 0.7195 - auc: 0.7945 - val_loss: 0.5614 - val_accuracy: 0.7090 - val_auc: 0.7826\n",
      "Epoch 4/100\n",
      "195840/196565 [============================>.] - ETA: 0s - loss: 0.5400 - accuracy: 0.7245 - auc: 0.8014\n",
      "Epoch 00004: ReduceLROnPlateau reducing learning rate to 0.001.\n",
      "196565/196565 [==============================] - 11s 58us/sample - loss: 0.5401 - accuracy: 0.7244 - auc: 0.8013 - val_loss: 0.5618 - val_accuracy: 0.7097 - val_auc: 0.7812\n",
      "Epoch 5/100\n",
      "196565/196565 [==============================] - 11s 58us/sample - loss: 0.5289 - accuracy: 0.7318 - auc: 0.8110 - val_loss: 0.5690 - val_accuracy: 0.7027 - val_auc: 0.7739\n",
      "Epoch 6/100\n",
      "195840/196565 [============================>.] - ETA: 0s - loss: 0.5105 - accuracy: 0.7464 - auc: 0.8264Restoring model weights from the end of the best epoch.\n",
      "196565/196565 [==============================] - 11s 57us/sample - loss: 0.5104 - accuracy: 0.7464 - auc: 0.8265 - val_loss: 0.5796 - val_accuracy: 0.6979 - val_auc: 0.7675\n",
      "Epoch 00006: early stopping\n",
      "\n",
      "done creating data\n",
      "Train on 196565 samples, validate on 28081 samples\n",
      "Epoch 1/100\n",
      "196565/196565 [==============================] - 12s 60us/sample - loss: 0.5962 - accuracy: 0.6872 - auc: 0.7518 - val_loss: 0.5574 - val_accuracy: 0.7099 - val_auc: 0.7846\n",
      "Epoch 2/100\n",
      "196565/196565 [==============================] - 12s 62us/sample - loss: 0.5555 - accuracy: 0.7145 - auc: 0.7871 - val_loss: 0.5561 - val_accuracy: 0.7120 - val_auc: 0.7870\n",
      "Epoch 3/100\n",
      "196565/196565 [==============================] - 12s 62us/sample - loss: 0.5471 - accuracy: 0.7192 - auc: 0.7948 - val_loss: 0.5595 - val_accuracy: 0.7112 - val_auc: 0.7840\n",
      "Epoch 4/100\n",
      "196565/196565 [==============================] - 12s 62us/sample - loss: 0.5396 - accuracy: 0.7241 - auc: 0.8015 - val_loss: 0.5618 - val_accuracy: 0.7109 - val_auc: 0.7825\n",
      "Epoch 5/100\n",
      "196096/196565 [============================>.] - ETA: 0s - loss: 0.5261 - accuracy: 0.7345 - auc: 0.8132\n",
      "Epoch 00005: ReduceLROnPlateau reducing learning rate to 0.001.\n",
      "196565/196565 [==============================] - 12s 62us/sample - loss: 0.5261 - accuracy: 0.7344 - auc: 0.8132 - val_loss: 0.5705 - val_accuracy: 0.7042 - val_auc: 0.7779\n",
      "Epoch 6/100\n",
      "196565/196565 [==============================] - 12s 60us/sample - loss: 0.5076 - accuracy: 0.7480 - auc: 0.8286 - val_loss: 0.5818 - val_accuracy: 0.6990 - val_auc: 0.7690\n",
      "Epoch 7/100\n",
      "195840/196565 [============================>.] - ETA: 0s - loss: 0.4830 - accuracy: 0.7645 - auc: 0.8471Restoring model weights from the end of the best epoch.\n",
      "196565/196565 [==============================] - 12s 60us/sample - loss: 0.4831 - accuracy: 0.7645 - auc: 0.8471 - val_loss: 0.6046 - val_accuracy: 0.6921 - val_auc: 0.7621\n",
      "Epoch 00007: early stopping\n",
      "\n",
      "done creating data\n",
      "Train on 196565 samples, validate on 28081 samples\n",
      "Epoch 1/100\n",
      "196565/196565 [==============================] - 12s 61us/sample - loss: 0.5963 - accuracy: 0.6872 - auc: 0.7516 - val_loss: 0.5597 - val_accuracy: 0.7060 - val_auc: 0.7817\n",
      "Epoch 2/100\n",
      "196565/196565 [==============================] - 12s 63us/sample - loss: 0.5572 - accuracy: 0.7128 - auc: 0.7858 - val_loss: 0.5584 - val_accuracy: 0.7072 - val_auc: 0.7837\n",
      "Epoch 3/100\n",
      "196565/196565 [==============================] - 12s 61us/sample - loss: 0.5481 - accuracy: 0.7190 - auc: 0.7942 - val_loss: 0.5587 - val_accuracy: 0.7085 - val_auc: 0.7832\n",
      "Epoch 4/100\n",
      "196565/196565 [==============================] - 12s 61us/sample - loss: 0.5403 - accuracy: 0.7240 - auc: 0.8010 - val_loss: 0.5644 - val_accuracy: 0.7069 - val_auc: 0.7796\n",
      "Epoch 5/100\n",
      "196352/196565 [============================>.] - ETA: 0s - loss: 0.5286 - accuracy: 0.7338 - auc: 0.8116\n",
      "Epoch 00005: ReduceLROnPlateau reducing learning rate to 0.001.\n",
      "196565/196565 [==============================] - 12s 62us/sample - loss: 0.5286 - accuracy: 0.7337 - auc: 0.8115 - val_loss: 0.5691 - val_accuracy: 0.7022 - val_auc: 0.7755\n",
      "Epoch 6/100\n",
      "196565/196565 [==============================] - 12s 62us/sample - loss: 0.5109 - accuracy: 0.7459 - auc: 0.8259 - val_loss: 0.5770 - val_accuracy: 0.6991 - val_auc: 0.7680\n",
      "Epoch 7/100\n",
      "195840/196565 [============================>.] - ETA: 0s - loss: 0.4873 - accuracy: 0.7633 - auc: 0.8445Restoring model weights from the end of the best epoch.\n",
      "196565/196565 [==============================] - 13s 66us/sample - loss: 0.4873 - accuracy: 0.7633 - auc: 0.8444 - val_loss: 0.5973 - val_accuracy: 0.6951 - val_auc: 0.7625\n",
      "Epoch 00007: early stopping\n",
      "\n",
      "done creating data\n",
      "Train on 196565 samples, validate on 28081 samples\n",
      "Epoch 1/100\n",
      "196565/196565 [==============================] - 12s 61us/sample - loss: 0.5960 - accuracy: 0.6872 - auc: 0.7517 - val_loss: 0.5568 - val_accuracy: 0.7110 - val_auc: 0.7862\n",
      "Epoch 2/100\n",
      "196565/196565 [==============================] - 12s 61us/sample - loss: 0.5570 - accuracy: 0.7124 - auc: 0.7858 - val_loss: 0.5566 - val_accuracy: 0.7118 - val_auc: 0.7867\n",
      "Epoch 3/100\n",
      "196565/196565 [==============================] - 12s 62us/sample - loss: 0.5475 - accuracy: 0.7195 - auc: 0.7947 - val_loss: 0.5577 - val_accuracy: 0.7114 - val_auc: 0.7852\n",
      "Epoch 4/100\n",
      "196565/196565 [==============================] - 13s 64us/sample - loss: 0.5397 - accuracy: 0.7252 - auc: 0.8017 - val_loss: 0.5623 - val_accuracy: 0.7060 - val_auc: 0.7807\n",
      "Epoch 5/100\n",
      "196096/196565 [============================>.] - ETA: 0s - loss: 0.5289 - accuracy: 0.7325 - auc: 0.8109\n",
      "Epoch 00005: ReduceLROnPlateau reducing learning rate to 0.001.\n",
      "196565/196565 [==============================] - 13s 65us/sample - loss: 0.5289 - accuracy: 0.7325 - auc: 0.8108 - val_loss: 0.5731 - val_accuracy: 0.7082 - val_auc: 0.7779\n",
      "Epoch 6/100\n",
      "196565/196565 [==============================] - 13s 64us/sample - loss: 0.5111 - accuracy: 0.7460 - auc: 0.8259 - val_loss: 0.5779 - val_accuracy: 0.6995 - val_auc: 0.7689\n",
      "Epoch 7/100\n",
      "195584/196565 [============================>.] - ETA: 0s - loss: 0.4865 - accuracy: 0.7622 - auc: 0.8448Restoring model weights from the end of the best epoch.\n",
      "196565/196565 [==============================] - 12s 61us/sample - loss: 0.4866 - accuracy: 0.7621 - auc: 0.8447 - val_loss: 0.5923 - val_accuracy: 0.6920 - val_auc: 0.7591\n"
     ]
    },
    {
     "name": "stdout",
     "output_type": "stream",
     "text": [
      "Epoch 00007: early stopping\n",
      "\n",
      "done creating data\n",
      "Train on 196566 samples, validate on 28080 samples\n",
      "Epoch 1/100\n",
      "196566/196566 [==============================] - 12s 62us/sample - loss: 0.5962 - accuracy: 0.6873 - auc: 0.7517 - val_loss: 0.5554 - val_accuracy: 0.7101 - val_auc: 0.7870\n",
      "Epoch 2/100\n",
      "196566/196566 [==============================] - 12s 60us/sample - loss: 0.5562 - accuracy: 0.7129 - auc: 0.7865 - val_loss: 0.5550 - val_accuracy: 0.7112 - val_auc: 0.7872\n",
      "Epoch 3/100\n",
      "196566/196566 [==============================] - 12s 61us/sample - loss: 0.5478 - accuracy: 0.7186 - auc: 0.7941 - val_loss: 0.5585 - val_accuracy: 0.7104 - val_auc: 0.7852\n",
      "Epoch 4/100\n",
      "196566/196566 [==============================] - 13s 66us/sample - loss: 0.5399 - accuracy: 0.7234 - auc: 0.8012 - val_loss: 0.5604 - val_accuracy: 0.7098 - val_auc: 0.7841\n",
      "Epoch 5/100\n",
      "196352/196566 [============================>.] - ETA: 0s - loss: 0.5289 - accuracy: 0.7324 - auc: 0.8110\n",
      "Epoch 00005: ReduceLROnPlateau reducing learning rate to 0.001.\n",
      "196566/196566 [==============================] - 12s 63us/sample - loss: 0.5288 - accuracy: 0.7325 - auc: 0.8110 - val_loss: 0.5680 - val_accuracy: 0.7068 - val_auc: 0.7798\n",
      "Epoch 6/100\n",
      "196566/196566 [==============================] - 12s 63us/sample - loss: 0.5104 - accuracy: 0.7462 - auc: 0.8263 - val_loss: 0.5741 - val_accuracy: 0.7024 - val_auc: 0.7733\n",
      "Epoch 7/100\n",
      "195584/196566 [============================>.] - ETA: 0s - loss: 0.4870 - accuracy: 0.7620 - auc: 0.8445Restoring model weights from the end of the best epoch.\n",
      "196566/196566 [==============================] - 13s 64us/sample - loss: 0.4871 - accuracy: 0.7620 - auc: 0.8444 - val_loss: 0.5930 - val_accuracy: 0.6950 - val_auc: 0.7646\n",
      "Epoch 00007: early stopping\n",
      "\n",
      "done creating data\n",
      "Train on 196566 samples, validate on 28080 samples\n",
      "Epoch 1/100\n",
      "196566/196566 [==============================] - 12s 60us/sample - loss: 0.5953 - accuracy: 0.6882 - auc: 0.7528 - val_loss: 0.5647 - val_accuracy: 0.7040 - val_auc: 0.7778\n",
      "Epoch 2/100\n",
      "196566/196566 [==============================] - 12s 61us/sample - loss: 0.5556 - accuracy: 0.7122 - auc: 0.7869 - val_loss: 0.5627 - val_accuracy: 0.7048 - val_auc: 0.7789\n",
      "Epoch 3/100\n",
      "196566/196566 [==============================] - 13s 64us/sample - loss: 0.5468 - accuracy: 0.7204 - auc: 0.7954 - val_loss: 0.5653 - val_accuracy: 0.7054 - val_auc: 0.7782\n",
      "Epoch 4/100\n",
      "196566/196566 [==============================] - 13s 64us/sample - loss: 0.5387 - accuracy: 0.7266 - auc: 0.8027 - val_loss: 0.5721 - val_accuracy: 0.7010 - val_auc: 0.7742\n",
      "Epoch 5/100\n",
      "196352/196566 [============================>.] - ETA: 0s - loss: 0.5262 - accuracy: 0.7340 - auc: 0.8133\n",
      "Epoch 00005: ReduceLROnPlateau reducing learning rate to 0.001.\n",
      "196566/196566 [==============================] - 13s 65us/sample - loss: 0.5263 - accuracy: 0.7340 - auc: 0.8133 - val_loss: 0.5832 - val_accuracy: 0.6957 - val_auc: 0.7694\n",
      "Epoch 6/100\n",
      "196566/196566 [==============================] - 12s 61us/sample - loss: 0.5082 - accuracy: 0.7480 - auc: 0.8283 - val_loss: 0.5841 - val_accuracy: 0.6932 - val_auc: 0.7625\n",
      "Epoch 7/100\n",
      "196096/196566 [============================>.] - ETA: 0s - loss: 0.4840 - accuracy: 0.7636 - auc: 0.8466Restoring model weights from the end of the best epoch.\n",
      "196566/196566 [==============================] - 13s 68us/sample - loss: 0.4840 - accuracy: 0.7636 - auc: 0.8466 - val_loss: 0.6103 - val_accuracy: 0.6836 - val_auc: 0.7523\n",
      "Epoch 00007: early stopping\n",
      "\n",
      "done creating data\n",
      "Train on 196565 samples, validate on 28081 samples\n",
      "Epoch 1/100\n",
      "196565/196565 [==============================] - 13s 67us/sample - loss: 0.5972 - accuracy: 0.6878 - auc: 0.7513 - val_loss: 0.5597 - val_accuracy: 0.7095 - val_auc: 0.7843\n",
      "Epoch 2/100\n",
      "196565/196565 [==============================] - 13s 64us/sample - loss: 0.5570 - accuracy: 0.7126 - auc: 0.7860 - val_loss: 0.5569 - val_accuracy: 0.7101 - val_auc: 0.7848\n",
      "Epoch 3/100\n",
      "196565/196565 [==============================] - 12s 60us/sample - loss: 0.5480 - accuracy: 0.7194 - auc: 0.7943 - val_loss: 0.5603 - val_accuracy: 0.7094 - val_auc: 0.7836\n",
      "Epoch 4/100\n",
      "196565/196565 [==============================] - 13s 65us/sample - loss: 0.5400 - accuracy: 0.7257 - auc: 0.8015 - val_loss: 0.5623 - val_accuracy: 0.7098 - val_auc: 0.7817\n",
      "Epoch 5/100\n",
      "196096/196565 [============================>.] - ETA: 0s - loss: 0.5290 - accuracy: 0.7337 - auc: 0.8112\n",
      "Epoch 00005: ReduceLROnPlateau reducing learning rate to 0.001.\n",
      "196565/196565 [==============================] - 13s 64us/sample - loss: 0.5290 - accuracy: 0.7336 - auc: 0.8112 - val_loss: 0.5706 - val_accuracy: 0.7039 - val_auc: 0.7763\n",
      "Epoch 6/100\n",
      "196565/196565 [==============================] - 12s 60us/sample - loss: 0.5113 - accuracy: 0.7449 - auc: 0.8257 - val_loss: 0.5955 - val_accuracy: 0.7010 - val_auc: 0.7701\n",
      "Epoch 7/100\n",
      "196096/196565 [============================>.] - ETA: 0s - loss: 0.4875 - accuracy: 0.7624 - auc: 0.8441Restoring model weights from the end of the best epoch.\n",
      "196565/196565 [==============================] - 12s 61us/sample - loss: 0.4875 - accuracy: 0.7624 - auc: 0.8441 - val_loss: 0.5926 - val_accuracy: 0.6922 - val_auc: 0.7621\n",
      "Epoch 00007: early stopping\n",
      "\n",
      "done creating data\n",
      "Train on 196565 samples, validate on 28081 samples\n",
      "Epoch 1/100\n",
      "196565/196565 [==============================] - 12s 61us/sample - loss: 0.5973 - accuracy: 0.6857 - auc: 0.7507 - val_loss: 0.5577 - val_accuracy: 0.7101 - val_auc: 0.7849\n",
      "Epoch 2/100\n",
      "196565/196565 [==============================] - 13s 65us/sample - loss: 0.5578 - accuracy: 0.7122 - auc: 0.7853 - val_loss: 0.5541 - val_accuracy: 0.7105 - val_auc: 0.7872\n",
      "Epoch 3/100\n",
      "196565/196565 [==============================] - 13s 68us/sample - loss: 0.5481 - accuracy: 0.7198 - auc: 0.7944 - val_loss: 0.5564 - val_accuracy: 0.7090 - val_auc: 0.7848\n",
      "Epoch 4/100\n",
      "196565/196565 [==============================] - 13s 65us/sample - loss: 0.5398 - accuracy: 0.7245 - auc: 0.8014 - val_loss: 0.5612 - val_accuracy: 0.7054 - val_auc: 0.7808\n",
      "Epoch 5/100\n",
      "195840/196565 [============================>.] - ETA: 0s - loss: 0.5286 - accuracy: 0.7330 - auc: 0.8113\n",
      "Epoch 00005: ReduceLROnPlateau reducing learning rate to 0.001.\n",
      "196565/196565 [==============================] - 13s 67us/sample - loss: 0.5286 - accuracy: 0.7329 - auc: 0.8113 - val_loss: 0.5671 - val_accuracy: 0.7029 - val_auc: 0.7770\n",
      "Epoch 6/100\n",
      "196565/196565 [==============================] - 14s 69us/sample - loss: 0.5110 - accuracy: 0.7458 - auc: 0.8260 - val_loss: 0.5833 - val_accuracy: 0.6986 - val_auc: 0.7695\n",
      "Epoch 7/100\n",
      "195840/196565 [============================>.] - ETA: 0s - loss: 0.4863 - accuracy: 0.7631 - auc: 0.8451Restoring model weights from the end of the best epoch.\n",
      "196565/196565 [==============================] - 14s 70us/sample - loss: 0.4864 - accuracy: 0.7630 - auc: 0.8450 - val_loss: 0.5972 - val_accuracy: 0.6925 - val_auc: 0.7619\n",
      "Epoch 00007: early stopping\n",
      "\n",
      "done creating data\n",
      "Train on 196565 samples, validate on 28081 samples\n",
      "Epoch 1/100\n",
      "196565/196565 [==============================] - 13s 68us/sample - loss: 0.5967 - accuracy: 0.6861 - auc: 0.7513 - val_loss: 0.5626 - val_accuracy: 0.7069 - val_auc: 0.7794\n",
      "Epoch 2/100\n",
      "196565/196565 [==============================] - 13s 67us/sample - loss: 0.5555 - accuracy: 0.7140 - auc: 0.7873 - val_loss: 0.5682 - val_accuracy: 0.7091 - val_auc: 0.7805\n",
      "Epoch 3/100\n",
      "196565/196565 [==============================] - 12s 63us/sample - loss: 0.5468 - accuracy: 0.7195 - auc: 0.7951 - val_loss: 0.5651 - val_accuracy: 0.7078 - val_auc: 0.7778\n",
      "Epoch 4/100\n",
      "196565/196565 [==============================] - 12s 63us/sample - loss: 0.5384 - accuracy: 0.7261 - auc: 0.8028 - val_loss: 0.5664 - val_accuracy: 0.7072 - val_auc: 0.7779\n",
      "Epoch 5/100\n",
      "196096/196565 [============================>.] - ETA: 0s - loss: 0.5261 - accuracy: 0.7352 - auc: 0.8135\n",
      "Epoch 00005: ReduceLROnPlateau reducing learning rate to 0.001.\n",
      "196565/196565 [==============================] - 12s 62us/sample - loss: 0.5262 - accuracy: 0.7352 - auc: 0.8135 - val_loss: 0.5790 - val_accuracy: 0.6995 - val_auc: 0.7691\n",
      "Epoch 6/100\n"
     ]
    },
    {
     "name": "stdout",
     "output_type": "stream",
     "text": [
      "196565/196565 [==============================] - 12s 64us/sample - loss: 0.5070 - accuracy: 0.7485 - auc: 0.8291 - val_loss: 0.5894 - val_accuracy: 0.6962 - val_auc: 0.7649\n",
      "Epoch 7/100\n",
      "196096/196565 [============================>.] - ETA: 0s - loss: 0.4814 - accuracy: 0.7658 - auc: 0.8483Restoring model weights from the end of the best epoch.\n",
      "196565/196565 [==============================] - 12s 61us/sample - loss: 0.4815 - accuracy: 0.7657 - auc: 0.8482 - val_loss: 0.6106 - val_accuracy: 0.6866 - val_auc: 0.7535\n",
      "Epoch 00007: early stopping\n",
      "\n",
      "done creating data\n",
      "Train on 196565 samples, validate on 28081 samples\n",
      "Epoch 1/100\n",
      "196565/196565 [==============================] - 12s 60us/sample - loss: 0.5963 - accuracy: 0.6862 - auc: 0.7513 - val_loss: 0.5625 - val_accuracy: 0.7093 - val_auc: 0.7840\n",
      "Epoch 2/100\n",
      "196565/196565 [==============================] - 12s 59us/sample - loss: 0.5563 - accuracy: 0.7126 - auc: 0.7863 - val_loss: 0.5563 - val_accuracy: 0.7106 - val_auc: 0.7862\n",
      "Epoch 3/100\n",
      "196565/196565 [==============================] - 12s 61us/sample - loss: 0.5481 - accuracy: 0.7191 - auc: 0.7940 - val_loss: 0.5593 - val_accuracy: 0.7100 - val_auc: 0.7852\n",
      "Epoch 4/100\n",
      "196565/196565 [==============================] - 12s 60us/sample - loss: 0.5399 - accuracy: 0.7251 - auc: 0.8014 - val_loss: 0.5624 - val_accuracy: 0.7065 - val_auc: 0.7804\n",
      "Epoch 5/100\n",
      "195584/196565 [============================>.] - ETA: 0s - loss: 0.5289 - accuracy: 0.7319 - auc: 0.8110\n",
      "Epoch 00005: ReduceLROnPlateau reducing learning rate to 0.001.\n",
      "196565/196565 [==============================] - 12s 60us/sample - loss: 0.5290 - accuracy: 0.7319 - auc: 0.8110 - val_loss: 0.5709 - val_accuracy: 0.7063 - val_auc: 0.7758\n",
      "Epoch 6/100\n",
      "196565/196565 [==============================] - 12s 62us/sample - loss: 0.5111 - accuracy: 0.7451 - auc: 0.8256 - val_loss: 0.5823 - val_accuracy: 0.6994 - val_auc: 0.7697\n",
      "Epoch 7/100\n",
      "195840/196565 [============================>.] - ETA: 0s - loss: 0.4862 - accuracy: 0.7630 - auc: 0.8450Restoring model weights from the end of the best epoch.\n",
      "196565/196565 [==============================] - 12s 60us/sample - loss: 0.4863 - accuracy: 0.7630 - auc: 0.8450 - val_loss: 0.5941 - val_accuracy: 0.6940 - val_auc: 0.7636\n",
      "Epoch 00007: early stopping\n",
      "\n",
      "done creating data\n",
      "Train on 196565 samples, validate on 28081 samples\n",
      "Epoch 1/100\n",
      "196565/196565 [==============================] - 12s 60us/sample - loss: 0.5967 - accuracy: 0.6855 - auc: 0.7506 - val_loss: 0.5666 - val_accuracy: 0.7070 - val_auc: 0.7814\n",
      "Epoch 2/100\n",
      "196565/196565 [==============================] - 12s 60us/sample - loss: 0.5565 - accuracy: 0.7123 - auc: 0.7863 - val_loss: 0.5593 - val_accuracy: 0.7103 - val_auc: 0.7829\n",
      "Epoch 3/100\n",
      "196565/196565 [==============================] - 12s 60us/sample - loss: 0.5482 - accuracy: 0.7189 - auc: 0.7942 - val_loss: 0.5614 - val_accuracy: 0.7094 - val_auc: 0.7816\n",
      "Epoch 4/100\n",
      "196565/196565 [==============================] - 12s 60us/sample - loss: 0.5402 - accuracy: 0.7244 - auc: 0.8012 - val_loss: 0.5688 - val_accuracy: 0.7063 - val_auc: 0.7798\n",
      "Epoch 5/100\n",
      "195840/196565 [============================>.] - ETA: 0s - loss: 0.5290 - accuracy: 0.7328 - auc: 0.8108\n",
      "Epoch 00005: ReduceLROnPlateau reducing learning rate to 0.001.\n",
      "196565/196565 [==============================] - 12s 60us/sample - loss: 0.5291 - accuracy: 0.7327 - auc: 0.8107 - val_loss: 0.5696 - val_accuracy: 0.7059 - val_auc: 0.7761\n",
      "Epoch 6/100\n",
      "196565/196565 [==============================] - 12s 60us/sample - loss: 0.5116 - accuracy: 0.7461 - auc: 0.8256 - val_loss: 0.5804 - val_accuracy: 0.7007 - val_auc: 0.7686\n",
      "Epoch 7/100\n",
      "195840/196565 [============================>.] - ETA: 0s - loss: 0.4876 - accuracy: 0.7612 - auc: 0.8438Restoring model weights from the end of the best epoch.\n",
      "196565/196565 [==============================] - 12s 61us/sample - loss: 0.4876 - accuracy: 0.7612 - auc: 0.8439 - val_loss: 0.5971 - val_accuracy: 0.6958 - val_auc: 0.7615\n",
      "Epoch 00007: early stopping\n",
      "\n",
      "done creating data\n",
      "Train on 196565 samples, validate on 28081 samples\n",
      "Epoch 1/100\n",
      "196565/196565 [==============================] - 12s 60us/sample - loss: 0.5967 - accuracy: 0.6874 - auc: 0.7515 - val_loss: 0.5587 - val_accuracy: 0.7076 - val_auc: 0.7827\n",
      "Epoch 2/100\n",
      "196565/196565 [==============================] - 12s 60us/sample - loss: 0.5564 - accuracy: 0.7138 - auc: 0.7865 - val_loss: 0.5568 - val_accuracy: 0.7107 - val_auc: 0.7849\n",
      "Epoch 3/100\n",
      "196565/196565 [==============================] - 12s 60us/sample - loss: 0.5484 - accuracy: 0.7188 - auc: 0.7939 - val_loss: 0.5591 - val_accuracy: 0.7091 - val_auc: 0.7829\n",
      "Epoch 4/100\n",
      "196565/196565 [==============================] - 12s 60us/sample - loss: 0.5408 - accuracy: 0.7250 - auc: 0.8009 - val_loss: 0.5626 - val_accuracy: 0.7068 - val_auc: 0.7799\n",
      "Epoch 5/100\n",
      "195584/196565 [============================>.] - ETA: 0s - loss: 0.5287 - accuracy: 0.7325 - auc: 0.8111\n",
      "Epoch 00005: ReduceLROnPlateau reducing learning rate to 0.001.\n",
      "196565/196565 [==============================] - 12s 60us/sample - loss: 0.5288 - accuracy: 0.7324 - auc: 0.8111 - val_loss: 0.5707 - val_accuracy: 0.7033 - val_auc: 0.7744\n",
      "Epoch 6/100\n",
      "196565/196565 [==============================] - 12s 60us/sample - loss: 0.5105 - accuracy: 0.7468 - auc: 0.8264 - val_loss: 0.5898 - val_accuracy: 0.6998 - val_auc: 0.7682\n",
      "Epoch 7/100\n",
      "195840/196565 [============================>.] - ETA: 0s - loss: 0.4862 - accuracy: 0.7630 - auc: 0.8450Restoring model weights from the end of the best epoch.\n",
      "196565/196565 [==============================] - 12s 60us/sample - loss: 0.4862 - accuracy: 0.7631 - auc: 0.8451 - val_loss: 0.6028 - val_accuracy: 0.6924 - val_auc: 0.7590\n",
      "Epoch 00007: early stopping\n",
      "\n",
      "done creating data\n",
      "Train on 196566 samples, validate on 28080 samples\n",
      "Epoch 1/100\n",
      "196566/196566 [==============================] - 12s 60us/sample - loss: 0.5964 - accuracy: 0.6872 - auc: 0.7517 - val_loss: 0.5627 - val_accuracy: 0.7087 - val_auc: 0.7804\n",
      "Epoch 2/100\n",
      "196566/196566 [==============================] - 12s 60us/sample - loss: 0.5560 - accuracy: 0.7137 - auc: 0.7869 - val_loss: 0.5649 - val_accuracy: 0.7077 - val_auc: 0.7792\n",
      "Epoch 3/100\n",
      "196566/196566 [==============================] - 12s 60us/sample - loss: 0.5473 - accuracy: 0.7191 - auc: 0.7948 - val_loss: 0.5645 - val_accuracy: 0.7087 - val_auc: 0.7787\n",
      "Epoch 4/100\n",
      "195840/196566 [============================>.] - ETA: 0s - loss: 0.5388 - accuracy: 0.7255 - auc: 0.8025\n",
      "Epoch 00004: ReduceLROnPlateau reducing learning rate to 0.001.\n",
      "196566/196566 [==============================] - 12s 60us/sample - loss: 0.5389 - accuracy: 0.7255 - auc: 0.8024 - val_loss: 0.5685 - val_accuracy: 0.7033 - val_auc: 0.7758\n",
      "Epoch 5/100\n",
      "196566/196566 [==============================] - 12s 60us/sample - loss: 0.5276 - accuracy: 0.7342 - auc: 0.8123 - val_loss: 0.5749 - val_accuracy: 0.7027 - val_auc: 0.7723\n",
      "Epoch 6/100\n",
      "195840/196566 [============================>.] - ETA: 0s - loss: 0.5098 - accuracy: 0.7466 - auc: 0.8269Restoring model weights from the end of the best epoch.\n",
      "196566/196566 [==============================] - 12s 60us/sample - loss: 0.5097 - accuracy: 0.7467 - auc: 0.8269 - val_loss: 0.5862 - val_accuracy: 0.6964 - val_auc: 0.7643\n",
      "Epoch 00006: early stopping\n",
      "\n",
      "done creating data\n",
      "Train on 196566 samples, validate on 28080 samples\n",
      "Epoch 1/100\n",
      "196566/196566 [==============================] - 12s 60us/sample - loss: 0.5976 - accuracy: 0.6860 - auc: 0.7505 - val_loss: 0.5589 - val_accuracy: 0.7090 - val_auc: 0.7840\n",
      "Epoch 2/100\n",
      "196566/196566 [==============================] - 12s 60us/sample - loss: 0.5570 - accuracy: 0.7121 - auc: 0.7858 - val_loss: 0.5583 - val_accuracy: 0.7100 - val_auc: 0.7844\n",
      "Epoch 3/100\n",
      "196566/196566 [==============================] - 12s 60us/sample - loss: 0.5480 - accuracy: 0.7190 - auc: 0.7941 - val_loss: 0.5597 - val_accuracy: 0.7085 - val_auc: 0.7830\n",
      "Epoch 4/100\n",
      "196566/196566 [==============================] - 12s 60us/sample - loss: 0.5404 - accuracy: 0.7237 - auc: 0.8009 - val_loss: 0.5651 - val_accuracy: 0.7073 - val_auc: 0.7808\n",
      "Epoch 5/100\n",
      "196352/196566 [============================>.] - ETA: 0s - loss: 0.5286 - accuracy: 0.7323 - auc: 0.8112\n",
      "Epoch 00005: ReduceLROnPlateau reducing learning rate to 0.001.\n",
      "196566/196566 [==============================] - 12s 60us/sample - loss: 0.5286 - accuracy: 0.7324 - auc: 0.8112 - val_loss: 0.5691 - val_accuracy: 0.7032 - val_auc: 0.7762\n"
     ]
    },
    {
     "name": "stdout",
     "output_type": "stream",
     "text": [
      "Epoch 6/100\n",
      "196566/196566 [==============================] - 12s 59us/sample - loss: 0.5100 - accuracy: 0.7467 - auc: 0.8267 - val_loss: 0.5841 - val_accuracy: 0.6959 - val_auc: 0.7686\n",
      "Epoch 7/100\n",
      "195840/196566 [============================>.] - ETA: 0s - loss: 0.4854 - accuracy: 0.7632 - auc: 0.8457Restoring model weights from the end of the best epoch.\n",
      "196566/196566 [==============================] - 12s 59us/sample - loss: 0.4855 - accuracy: 0.7631 - auc: 0.8456 - val_loss: 0.6003 - val_accuracy: 0.6898 - val_auc: 0.7582\n",
      "Epoch 00007: early stopping\n",
      "\n",
      "done creating data\n",
      "Train on 196565 samples, validate on 28081 samples\n",
      "Epoch 1/100\n",
      "196565/196565 [==============================] - 12s 60us/sample - loss: 0.5986 - accuracy: 0.6847 - auc: 0.7489 - val_loss: 0.5610 - val_accuracy: 0.7079 - val_auc: 0.7815\n",
      "Epoch 2/100\n",
      "196565/196565 [==============================] - 12s 60us/sample - loss: 0.5578 - accuracy: 0.7113 - auc: 0.7848 - val_loss: 0.5601 - val_accuracy: 0.7098 - val_auc: 0.7830\n",
      "Epoch 3/100\n",
      "196565/196565 [==============================] - 12s 60us/sample - loss: 0.5487 - accuracy: 0.7182 - auc: 0.7931 - val_loss: 0.5637 - val_accuracy: 0.7087 - val_auc: 0.7797\n",
      "Epoch 4/100\n",
      "196565/196565 [==============================] - 12s 60us/sample - loss: 0.5406 - accuracy: 0.7227 - auc: 0.8001 - val_loss: 0.5722 - val_accuracy: 0.7038 - val_auc: 0.7755\n",
      "Epoch 5/100\n",
      "195840/196565 [============================>.] - ETA: 0s - loss: 0.5301 - accuracy: 0.7315 - auc: 0.8096\n",
      "Epoch 00005: ReduceLROnPlateau reducing learning rate to 0.001.\n",
      "196565/196565 [==============================] - 12s 60us/sample - loss: 0.5301 - accuracy: 0.7315 - auc: 0.8096 - val_loss: 0.5773 - val_accuracy: 0.7022 - val_auc: 0.7697\n",
      "Epoch 6/100\n",
      "196565/196565 [==============================] - 12s 60us/sample - loss: 0.5134 - accuracy: 0.7438 - auc: 0.8237 - val_loss: 0.5913 - val_accuracy: 0.6967 - val_auc: 0.7638\n",
      "Epoch 7/100\n",
      "196352/196565 [============================>.] - ETA: 0s - loss: 0.4890 - accuracy: 0.7600 - auc: 0.8426Restoring model weights from the end of the best epoch.\n",
      "196565/196565 [==============================] - 12s 60us/sample - loss: 0.4890 - accuracy: 0.7600 - auc: 0.8426 - val_loss: 0.5992 - val_accuracy: 0.6905 - val_auc: 0.7562\n",
      "Epoch 00007: early stopping\n",
      "\n",
      "done creating data\n",
      "Train on 196565 samples, validate on 28081 samples\n",
      "Epoch 1/100\n",
      "196565/196565 [==============================] - 12s 60us/sample - loss: 0.5980 - accuracy: 0.6851 - auc: 0.7491 - val_loss: 0.5589 - val_accuracy: 0.7067 - val_auc: 0.7829\n",
      "Epoch 2/100\n",
      "196565/196565 [==============================] - 12s 60us/sample - loss: 0.5586 - accuracy: 0.7105 - auc: 0.7840 - val_loss: 0.5580 - val_accuracy: 0.7075 - val_auc: 0.7835\n",
      "Epoch 3/100\n",
      "196565/196565 [==============================] - 12s 60us/sample - loss: 0.5501 - accuracy: 0.7180 - auc: 0.7923 - val_loss: 0.5601 - val_accuracy: 0.7078 - val_auc: 0.7812\n",
      "Epoch 4/100\n",
      "196565/196565 [==============================] - 12s 60us/sample - loss: 0.5422 - accuracy: 0.7221 - auc: 0.7990 - val_loss: 0.5677 - val_accuracy: 0.7077 - val_auc: 0.7801\n",
      "Epoch 5/100\n",
      "195840/196565 [============================>.] - ETA: 0s - loss: 0.5304 - accuracy: 0.7312 - auc: 0.8096\n",
      "Epoch 00005: ReduceLROnPlateau reducing learning rate to 0.001.\n",
      "196565/196565 [==============================] - 12s 60us/sample - loss: 0.5305 - accuracy: 0.7312 - auc: 0.8095 - val_loss: 0.5709 - val_accuracy: 0.7046 - val_auc: 0.7736\n",
      "Epoch 6/100\n",
      "196565/196565 [==============================] - 12s 60us/sample - loss: 0.5132 - accuracy: 0.7446 - auc: 0.8239 - val_loss: 0.5775 - val_accuracy: 0.6973 - val_auc: 0.7681\n",
      "Epoch 7/100\n",
      "195840/196565 [============================>.] - ETA: 0s - loss: 0.4886 - accuracy: 0.7610 - auc: 0.8431Restoring model weights from the end of the best epoch.\n",
      "196565/196565 [==============================] - 12s 60us/sample - loss: 0.4886 - accuracy: 0.7610 - auc: 0.8430 - val_loss: 0.6022 - val_accuracy: 0.6923 - val_auc: 0.7603\n",
      "Epoch 00007: early stopping\n",
      "\n",
      "done creating data\n",
      "Train on 196565 samples, validate on 28081 samples\n",
      "Epoch 1/100\n",
      "196565/196565 [==============================] - 12s 60us/sample - loss: 0.5978 - accuracy: 0.6854 - auc: 0.7497 - val_loss: 0.5616 - val_accuracy: 0.7055 - val_auc: 0.7799\n",
      "Epoch 2/100\n",
      "196565/196565 [==============================] - 12s 60us/sample - loss: 0.5577 - accuracy: 0.7124 - auc: 0.7850 - val_loss: 0.5623 - val_accuracy: 0.7068 - val_auc: 0.7824\n",
      "Epoch 3/100\n",
      "196565/196565 [==============================] - 12s 60us/sample - loss: 0.5486 - accuracy: 0.7179 - auc: 0.7933 - val_loss: 0.5634 - val_accuracy: 0.7057 - val_auc: 0.7795\n",
      "Epoch 4/100\n",
      "196565/196565 [==============================] - 12s 60us/sample - loss: 0.5407 - accuracy: 0.7239 - auc: 0.8004 - val_loss: 0.5657 - val_accuracy: 0.7046 - val_auc: 0.7767\n",
      "Epoch 5/100\n",
      "195840/196565 [============================>.] - ETA: 0s - loss: 0.5287 - accuracy: 0.7321 - auc: 0.8110\n",
      "Epoch 00005: ReduceLROnPlateau reducing learning rate to 0.001.\n",
      "196565/196565 [==============================] - 12s 59us/sample - loss: 0.5288 - accuracy: 0.7320 - auc: 0.8109 - val_loss: 0.5736 - val_accuracy: 0.7015 - val_auc: 0.7712\n",
      "Epoch 6/100\n",
      "196565/196565 [==============================] - 12s 59us/sample - loss: 0.5099 - accuracy: 0.7469 - auc: 0.8267 - val_loss: 0.5860 - val_accuracy: 0.6928 - val_auc: 0.7633\n",
      "Epoch 7/100\n",
      "195840/196565 [============================>.] - ETA: 0s - loss: 0.4859 - accuracy: 0.7625 - auc: 0.8452Restoring model weights from the end of the best epoch.\n",
      "196565/196565 [==============================] - 12s 59us/sample - loss: 0.4861 - accuracy: 0.7624 - auc: 0.8451 - val_loss: 0.5995 - val_accuracy: 0.6872 - val_auc: 0.7539\n",
      "Epoch 00007: early stopping\n",
      "\n",
      "done creating data\n",
      "Train on 196565 samples, validate on 28081 samples\n",
      "Epoch 1/100\n",
      "196565/196565 [==============================] - 12s 60us/sample - loss: 0.5982 - accuracy: 0.6838 - auc: 0.7488 - val_loss: 0.5596 - val_accuracy: 0.7097 - val_auc: 0.7826\n",
      "Epoch 2/100\n",
      "196565/196565 [==============================] - 12s 60us/sample - loss: 0.5590 - accuracy: 0.7093 - auc: 0.7836 - val_loss: 0.5603 - val_accuracy: 0.7091 - val_auc: 0.7825\n",
      "Epoch 3/100\n",
      "196565/196565 [==============================] - 12s 60us/sample - loss: 0.5500 - accuracy: 0.7161 - auc: 0.7919 - val_loss: 0.5591 - val_accuracy: 0.7118 - val_auc: 0.7832\n",
      "Epoch 4/100\n",
      "196565/196565 [==============================] - 12s 60us/sample - loss: 0.5417 - accuracy: 0.7216 - auc: 0.7994 - val_loss: 0.5659 - val_accuracy: 0.7068 - val_auc: 0.7776\n",
      "Epoch 5/100\n",
      "196565/196565 [==============================] - 12s 60us/sample - loss: 0.5313 - accuracy: 0.7295 - auc: 0.8084 - val_loss: 0.5706 - val_accuracy: 0.7034 - val_auc: 0.7753\n",
      "Epoch 6/100\n",
      "195840/196565 [============================>.] - ETA: 0s - loss: 0.5145 - accuracy: 0.7423 - auc: 0.8228\n",
      "Epoch 00006: ReduceLROnPlateau reducing learning rate to 0.001.\n",
      "196565/196565 [==============================] - 12s 60us/sample - loss: 0.5147 - accuracy: 0.7421 - auc: 0.8227 - val_loss: 0.5785 - val_accuracy: 0.6964 - val_auc: 0.7679\n",
      "Epoch 7/100\n",
      "196565/196565 [==============================] - 12s 59us/sample - loss: 0.4905 - accuracy: 0.7592 - auc: 0.8415 - val_loss: 0.5955 - val_accuracy: 0.6933 - val_auc: 0.7596\n",
      "Epoch 8/100\n",
      "196352/196565 [============================>.] - ETA: 0s - loss: 0.4630 - accuracy: 0.7783 - auc: 0.8612Restoring model weights from the end of the best epoch.\n",
      "196565/196565 [==============================] - 12s 60us/sample - loss: 0.4630 - accuracy: 0.7783 - auc: 0.8612 - val_loss: 0.6173 - val_accuracy: 0.6863 - val_auc: 0.7514\n",
      "Epoch 00008: early stopping\n",
      "\n",
      "done creating data\n",
      "Train on 196565 samples, validate on 28081 samples\n",
      "Epoch 1/100\n",
      "196565/196565 [==============================] - 12s 60us/sample - loss: 0.5981 - accuracy: 0.6849 - auc: 0.7492 - val_loss: 0.5591 - val_accuracy: 0.7079 - val_auc: 0.7820\n",
      "Epoch 2/100\n",
      "196565/196565 [==============================] - 12s 60us/sample - loss: 0.5583 - accuracy: 0.7113 - auc: 0.7845 - val_loss: 0.5581 - val_accuracy: 0.7073 - val_auc: 0.7829\n",
      "Epoch 3/100\n"
     ]
    },
    {
     "name": "stdout",
     "output_type": "stream",
     "text": [
      "196565/196565 [==============================] - 12s 60us/sample - loss: 0.5503 - accuracy: 0.7176 - auc: 0.7922 - val_loss: 0.5605 - val_accuracy: 0.7081 - val_auc: 0.7819\n",
      "Epoch 4/100\n",
      "196565/196565 [==============================] - 12s 60us/sample - loss: 0.5419 - accuracy: 0.7220 - auc: 0.7994 - val_loss: 0.5637 - val_accuracy: 0.7047 - val_auc: 0.7796\n",
      "Epoch 5/100\n",
      "195840/196565 [============================>.] - ETA: 0s - loss: 0.5309 - accuracy: 0.7306 - auc: 0.8091\n",
      "Epoch 00005: ReduceLROnPlateau reducing learning rate to 0.001.\n",
      "196565/196565 [==============================] - 12s 59us/sample - loss: 0.5310 - accuracy: 0.7305 - auc: 0.8090 - val_loss: 0.5692 - val_accuracy: 0.7029 - val_auc: 0.7741\n",
      "Epoch 6/100\n",
      "196565/196565 [==============================] - 12s 59us/sample - loss: 0.5125 - accuracy: 0.7442 - auc: 0.8247 - val_loss: 0.5785 - val_accuracy: 0.6972 - val_auc: 0.7677\n",
      "Epoch 7/100\n",
      "195584/196565 [============================>.] - ETA: 0s - loss: 0.4876 - accuracy: 0.7611 - auc: 0.8438Restoring model weights from the end of the best epoch.\n",
      "196565/196565 [==============================] - 12s 60us/sample - loss: 0.4877 - accuracy: 0.7611 - auc: 0.8438 - val_loss: 0.5999 - val_accuracy: 0.6903 - val_auc: 0.7601\n",
      "Epoch 00007: early stopping\n",
      "\n",
      "done creating data\n",
      "Train on 196565 samples, validate on 28081 samples\n",
      "Epoch 1/100\n",
      "196565/196565 [==============================] - 12s 60us/sample - loss: 0.5981 - accuracy: 0.6854 - auc: 0.7497 - val_loss: 0.5594 - val_accuracy: 0.7049 - val_auc: 0.7816\n",
      "Epoch 2/100\n",
      "196565/196565 [==============================] - 12s 60us/sample - loss: 0.5583 - accuracy: 0.7117 - auc: 0.7847 - val_loss: 0.5595 - val_accuracy: 0.7065 - val_auc: 0.7819\n",
      "Epoch 3/100\n",
      "196565/196565 [==============================] - 12s 60us/sample - loss: 0.5499 - accuracy: 0.7176 - auc: 0.7925 - val_loss: 0.5595 - val_accuracy: 0.7081 - val_auc: 0.7820\n",
      "Epoch 4/100\n",
      "196565/196565 [==============================] - 12s 60us/sample - loss: 0.5418 - accuracy: 0.7230 - auc: 0.7995 - val_loss: 0.5654 - val_accuracy: 0.7062 - val_auc: 0.7790\n",
      "Epoch 5/100\n",
      "196565/196565 [==============================] - 12s 60us/sample - loss: 0.5300 - accuracy: 0.7319 - auc: 0.8102 - val_loss: 0.5744 - val_accuracy: 0.7004 - val_auc: 0.7726\n",
      "Epoch 6/100\n",
      "196352/196565 [============================>.] - ETA: 0s - loss: 0.5115 - accuracy: 0.7449 - auc: 0.8252\n",
      "Epoch 00006: ReduceLROnPlateau reducing learning rate to 0.001.\n",
      "196565/196565 [==============================] - 12s 60us/sample - loss: 0.5116 - accuracy: 0.7449 - auc: 0.8252 - val_loss: 0.5791 - val_accuracy: 0.6974 - val_auc: 0.7689\n",
      "Epoch 7/100\n",
      "196565/196565 [==============================] - 12s 60us/sample - loss: 0.4859 - accuracy: 0.7626 - auc: 0.8451 - val_loss: 0.5971 - val_accuracy: 0.6898 - val_auc: 0.7585\n",
      "Epoch 8/100\n",
      "195584/196565 [============================>.] - ETA: 0s - loss: 0.4581 - accuracy: 0.7805 - auc: 0.8645Restoring model weights from the end of the best epoch.\n",
      "196565/196565 [==============================] - 12s 60us/sample - loss: 0.4582 - accuracy: 0.7804 - auc: 0.8644 - val_loss: 0.6242 - val_accuracy: 0.6805 - val_auc: 0.7483\n",
      "Epoch 00008: early stopping\n",
      "\n",
      "done creating data\n",
      "Train on 196566 samples, validate on 28080 samples\n",
      "Epoch 1/100\n",
      "196566/196566 [==============================] - 12s 60us/sample - loss: 0.5971 - accuracy: 0.6857 - auc: 0.7505 - val_loss: 0.5670 - val_accuracy: 0.7045 - val_auc: 0.7755\n",
      "Epoch 2/100\n",
      "196566/196566 [==============================] - 12s 60us/sample - loss: 0.5579 - accuracy: 0.7105 - auc: 0.7847 - val_loss: 0.5663 - val_accuracy: 0.7049 - val_auc: 0.7775\n",
      "Epoch 3/100\n",
      "196566/196566 [==============================] - 12s 60us/sample - loss: 0.5488 - accuracy: 0.7177 - auc: 0.7930 - val_loss: 0.5674 - val_accuracy: 0.7074 - val_auc: 0.7764\n",
      "Epoch 4/100\n",
      "196566/196566 [==============================] - 12s 60us/sample - loss: 0.5423 - accuracy: 0.7219 - auc: 0.7990 - val_loss: 0.5717 - val_accuracy: 0.7063 - val_auc: 0.7744\n",
      "Epoch 5/100\n",
      "195840/196566 [============================>.] - ETA: 0s - loss: 0.5308 - accuracy: 0.7304 - auc: 0.8090\n",
      "Epoch 00005: ReduceLROnPlateau reducing learning rate to 0.001.\n",
      "196566/196566 [==============================] - 12s 60us/sample - loss: 0.5310 - accuracy: 0.7303 - auc: 0.8089 - val_loss: 0.5765 - val_accuracy: 0.7012 - val_auc: 0.7693\n",
      "Epoch 6/100\n",
      "196566/196566 [==============================] - 12s 60us/sample - loss: 0.5135 - accuracy: 0.7420 - auc: 0.8233 - val_loss: 0.5914 - val_accuracy: 0.6969 - val_auc: 0.7628\n",
      "Epoch 7/100\n",
      "195840/196566 [============================>.] - ETA: 0s - loss: 0.4906 - accuracy: 0.7592 - auc: 0.8415Restoring model weights from the end of the best epoch.\n",
      "196566/196566 [==============================] - 12s 60us/sample - loss: 0.4905 - accuracy: 0.7593 - auc: 0.8416 - val_loss: 0.6105 - val_accuracy: 0.6896 - val_auc: 0.7561\n",
      "Epoch 00007: early stopping\n",
      "\n",
      "done creating data\n",
      "Train on 196566 samples, validate on 28080 samples\n",
      "Epoch 1/100\n",
      "196566/196566 [==============================] - 12s 60us/sample - loss: 0.5987 - accuracy: 0.6848 - auc: 0.7489 - val_loss: 0.5580 - val_accuracy: 0.7105 - val_auc: 0.7836\n",
      "Epoch 2/100\n",
      "196566/196566 [==============================] - 12s 60us/sample - loss: 0.5581 - accuracy: 0.7109 - auc: 0.7846 - val_loss: 0.5572 - val_accuracy: 0.7095 - val_auc: 0.7845\n",
      "Epoch 3/100\n",
      "196566/196566 [==============================] - 12s 60us/sample - loss: 0.5502 - accuracy: 0.7172 - auc: 0.7920 - val_loss: 0.5598 - val_accuracy: 0.7090 - val_auc: 0.7828\n",
      "Epoch 4/100\n",
      "196566/196566 [==============================] - 12s 60us/sample - loss: 0.5420 - accuracy: 0.7222 - auc: 0.7993 - val_loss: 0.5696 - val_accuracy: 0.7072 - val_auc: 0.7798\n",
      "Epoch 5/100\n",
      "195840/196566 [============================>.] - ETA: 0s - loss: 0.5309 - accuracy: 0.7304 - auc: 0.8089\n",
      "Epoch 00005: ReduceLROnPlateau reducing learning rate to 0.001.\n",
      "196566/196566 [==============================] - 12s 60us/sample - loss: 0.5309 - accuracy: 0.7303 - auc: 0.8089 - val_loss: 0.5674 - val_accuracy: 0.7026 - val_auc: 0.7753\n",
      "Epoch 6/100\n",
      "196566/196566 [==============================] - 12s 60us/sample - loss: 0.5141 - accuracy: 0.7426 - auc: 0.8231 - val_loss: 0.5839 - val_accuracy: 0.6971 - val_auc: 0.7691\n",
      "Epoch 7/100\n",
      "195840/196566 [============================>.] - ETA: 0s - loss: 0.4897 - accuracy: 0.7610 - auc: 0.8423Restoring model weights from the end of the best epoch.\n",
      "196566/196566 [==============================] - 12s 60us/sample - loss: 0.4896 - accuracy: 0.7610 - auc: 0.8423 - val_loss: 0.6076 - val_accuracy: 0.6868 - val_auc: 0.7584\n",
      "Epoch 00007: early stopping\n",
      "\n"
     ]
    }
   ],
   "source": [
    "from sklearn import model_selection\n",
    "\n",
    "W = []\n",
    "\n",
    "submission = test_rank[['id']]\n",
    "submission['target'] = 0\n",
    "\n",
    "for run in range(3):\n",
    "\n",
    "    df_indx = stratified_sample_df(train_rank,'target',112323)\n",
    "\n",
    "\n",
    "    kf = model_selection.KFold(n_splits=8,shuffle=True)\n",
    "\n",
    "    for train_index, test_index in kf.split(df_indx):\n",
    "\n",
    "        model.set_weights(init_W)\n",
    "\n",
    "        trainidx = df_indx[train_index]\n",
    "        testidx = df_indx[test_index]\n",
    "\n",
    "        EMBTRAIN = [train_rank.loc[trainidx,emb_features[k]].values for k in range(D)]\n",
    "#         EMBTRAIN+=[train_rank.loc[trainidx,emb_features].values]\n",
    "\n",
    "        EMBTEST = [train_rank.loc[testidx,emb_features[k]].values for k in range(D)]\n",
    "#         EMBTEST+=[train_rank.loc[testidx,emb_features].values]\n",
    "\n",
    "        YTRAIN = train_rank.loc[trainidx,['target_0','target_1']].values\n",
    "        YTEST = train_rank.loc[testidx,['target_0','target_1']].values\n",
    "\n",
    "        print('done creating data')\n",
    "\n",
    "\n",
    "        es = tf.keras.callbacks.EarlyStopping(monitor='val_auc', min_delta=0.0001, patience=5,\n",
    "                                     verbose=1, mode='max', baseline=None, restore_best_weights=True)\n",
    "\n",
    "        rlr = tf.keras.callbacks.ReduceLROnPlateau(monitor='val_auc', factor=0.5,\n",
    "                                          patience=3, min_lr=1e-3, mode='max', verbose=1)\n",
    "\n",
    "\n",
    "        model.fit(EMBTRAIN,\n",
    "                  YTRAIN,\n",
    "                  validation_data=(EMBTEST, YTEST),\n",
    "                  verbose=1,\n",
    "                  batch_size=256,\n",
    "                  callbacks=[es, rlr],\n",
    "                  epochs=100,\n",
    "                 )\n",
    "\n",
    "\n",
    "        XTEST = [test_rank[emb_features[k]].values.astype(np.float32) for k in range(D)]\n",
    "#         XTEST+=[test_rank.loc[:,emb_features].values.astype(np.float32)]\n",
    "\n",
    "        ypred_test = model.predict(XTEST, batch_size=100,workers=6)\n",
    "\n",
    "        submission['target'] += ypred_test[:,1]\n",
    "        print()\n",
    "        gc.collect()\n",
    "\n",
    "        W.append(model.get_weights())"
   ]
  },
  {
   "cell_type": "code",
   "execution_count": 63,
   "metadata": {},
   "outputs": [],
   "source": [
    "submission.target=submission.target/24"
   ]
  },
  {
   "cell_type": "code",
   "execution_count": 64,
   "metadata": {},
   "outputs": [],
   "source": [
    "submission.to_csv('submission.csv',index=False)"
   ]
  },
  {
   "cell_type": "code",
   "execution_count": 65,
   "metadata": {},
   "outputs": [
    {
     "data": {
      "text/html": [
       "<div>\n",
       "<style scoped>\n",
       "    .dataframe tbody tr th:only-of-type {\n",
       "        vertical-align: middle;\n",
       "    }\n",
       "\n",
       "    .dataframe tbody tr th {\n",
       "        vertical-align: top;\n",
       "    }\n",
       "\n",
       "    .dataframe thead th {\n",
       "        text-align: right;\n",
       "    }\n",
       "</style>\n",
       "<table border=\"1\" class=\"dataframe\">\n",
       "  <thead>\n",
       "    <tr style=\"text-align: right;\">\n",
       "      <th></th>\n",
       "      <th>id</th>\n",
       "      <th>target</th>\n",
       "    </tr>\n",
       "  </thead>\n",
       "  <tbody>\n",
       "    <tr>\n",
       "      <th>0</th>\n",
       "      <td>600000</td>\n",
       "      <td>0.392636</td>\n",
       "    </tr>\n",
       "    <tr>\n",
       "      <th>1</th>\n",
       "      <td>600001</td>\n",
       "      <td>0.585291</td>\n",
       "    </tr>\n",
       "    <tr>\n",
       "      <th>2</th>\n",
       "      <td>600002</td>\n",
       "      <td>0.469941</td>\n",
       "    </tr>\n",
       "    <tr>\n",
       "      <th>3</th>\n",
       "      <td>600003</td>\n",
       "      <td>0.430713</td>\n",
       "    </tr>\n",
       "    <tr>\n",
       "      <th>4</th>\n",
       "      <td>600004</td>\n",
       "      <td>0.404220</td>\n",
       "    </tr>\n",
       "    <tr>\n",
       "      <th>...</th>\n",
       "      <td>...</td>\n",
       "      <td>...</td>\n",
       "    </tr>\n",
       "    <tr>\n",
       "      <th>399995</th>\n",
       "      <td>999995</td>\n",
       "      <td>0.861663</td>\n",
       "    </tr>\n",
       "    <tr>\n",
       "      <th>399996</th>\n",
       "      <td>999996</td>\n",
       "      <td>0.825350</td>\n",
       "    </tr>\n",
       "    <tr>\n",
       "      <th>399997</th>\n",
       "      <td>999997</td>\n",
       "      <td>0.831648</td>\n",
       "    </tr>\n",
       "    <tr>\n",
       "      <th>399998</th>\n",
       "      <td>999998</td>\n",
       "      <td>0.633191</td>\n",
       "    </tr>\n",
       "    <tr>\n",
       "      <th>399999</th>\n",
       "      <td>999999</td>\n",
       "      <td>0.548729</td>\n",
       "    </tr>\n",
       "  </tbody>\n",
       "</table>\n",
       "<p>400000 rows × 2 columns</p>\n",
       "</div>"
      ],
      "text/plain": [
       "            id    target\n",
       "0       600000  0.392636\n",
       "1       600001  0.585291\n",
       "2       600002  0.469941\n",
       "3       600003  0.430713\n",
       "4       600004  0.404220\n",
       "...        ...       ...\n",
       "399995  999995  0.861663\n",
       "399996  999996  0.825350\n",
       "399997  999997  0.831648\n",
       "399998  999998  0.633191\n",
       "399999  999999  0.548729\n",
       "\n",
       "[400000 rows x 2 columns]"
      ]
     },
     "execution_count": 65,
     "metadata": {},
     "output_type": "execute_result"
    }
   ],
   "source": [
    "submission"
   ]
  },
  {
   "cell_type": "code",
   "execution_count": null,
   "metadata": {},
   "outputs": [],
   "source": []
  }
 ],
 "metadata": {
  "kernelspec": {
   "display_name": "py37",
   "language": "python",
   "name": "py37"
  },
  "language_info": {
   "codemirror_mode": {
    "name": "ipython",
    "version": 3
   },
   "file_extension": ".py",
   "mimetype": "text/x-python",
   "name": "python",
   "nbconvert_exporter": "python",
   "pygments_lexer": "ipython3",
   "version": "3.7.4"
  }
 },
 "nbformat": 4,
 "nbformat_minor": 2
}
